{
 "cells": [
  {
   "cell_type": "markdown",
   "metadata": {},
   "source": [
    "# 2. Higgs@L3_Logistic_Regression\n",
    "\n",
    "## Prerequisites\n",
    "The BDTs are used as a precut and must thus be already available.\n",
    "\n",
    "## Data preparation\n",
    "As mentioned above, the BDT response is used for a precut on the data.\n",
    "We want to ignore the `fmmis` variable.\n",
    "It is identified as a strong discriminator.\n",
    "It is nevertheless not used in the Classifier.\n",
    "Instead, it will later be used, together with the Classifier's response, in a 2D analysis.\n",
    "\n",
    "## Logistic regression training\n",
    "This is executed & evaluated for each of the mass hypothesis.\n",
    "The coefficients are saved in a plain `.txt` file."
   ]
  },
  {
   "cell_type": "code",
   "execution_count": null,
   "metadata": {},
   "outputs": [],
   "source": [
    "import numpy as np\n",
    "import matplotlib.pyplot as plt\n",
    "import pandas as pd\n",
    "import pickle\n",
    "from sklearn.model_selection import train_test_split\n",
    "from sklearn.linear_model import LogisticRegression\n",
    "\n",
    "import helpers\n",
    "from load_data import data, mc_higgs_models, mc_no_higgs_frames"
   ]
  },
  {
   "cell_type": "markdown",
   "metadata": {},
   "source": [
    "## Data preparation"
   ]
  },
  {
   "cell_type": "code",
   "execution_count": null,
   "metadata": {},
   "outputs": [],
   "source": [
    "def getTrainAndTest(higgs_mass):\n",
    "    df_no_higgs = pd.concat(mc_no_higgs_frames)\n",
    "    df_higgs = mc_higgs_models[higgs_mass]\n",
    "    df_MVA = pd.concat([df_no_higgs, df_higgs])\n",
    "    df_MVA = df_MVA[helpers.kinematical_vars + [\"class\", \"weight\"]]\n",
    "\n",
    "    with open(f\"tmp/BDT_{higgs_mass}.pkl\", \"rb\") as fid:\n",
    "        bdt_loaded = pickle.load(fid)\n",
    "    df_MVA[\"bdt\"] = bdt_loaded.decision_function(df_MVA[helpers.kinematical_vars])\n",
    "    df_MVA = df_MVA[df_MVA[\"bdt\"] > helpers.bdt_cut[higgs_mass]]\n",
    "    del df_MVA[\"bdt\"]\n",
    "\n",
    "    del df_MVA[\"mmis\"]\n",
    "    target = df_MVA.pop(\"class\")\n",
    "\n",
    "    X_train, X_test, y_train, y_test = train_test_split(df_MVA, target, \n",
    "        stratify=target, random_state=42,train_size=0.65)\n",
    "\n",
    "    X_train_w = X_train.pop(\"weight\")\n",
    "    X_test_w = X_test.pop(\"weight\")\n",
    "\n",
    "    return X_train, X_test, y_train, y_test, X_train_w, X_test_w \n",
    "\n",
    "X_train, X_test, y_train, y_test, X_train_w, X_test_w = getTrainAndTest(\"higgs_85\")"
   ]
  },
  {
   "cell_type": "markdown",
   "metadata": {},
   "source": [
    "## Train a Logistic Regression"
   ]
  },
  {
   "cell_type": "code",
   "execution_count": null,
   "metadata": {
    "tags": []
   },
   "outputs": [],
   "source": [
    "log_regs = {}\n",
    "for higgs_mass in mc_higgs_models:\n",
    "    X_train, X_test, y_train, y_test, X_train_w, X_test_w = getTrainAndTest(higgs_mass)\n",
    "    log_regs[higgs_mass] = LogisticRegression(C=100).fit(X_train, y_train, sample_weight=X_train_w)\n",
    "    print(f\"{higgs_mass} training score: {100*log_regs[higgs_mass].score(X_train, y_train):.2f} %.\")\n",
    "    print(f\"{higgs_mass} test set score: {100*log_regs[higgs_mass].score(X_test, y_test):.2f} %.\\n\")"
   ]
  },
  {
   "cell_type": "code",
   "execution_count": null,
   "metadata": {},
   "outputs": [],
   "source": [
    "for higgs_mass, log_reg in log_regs.items():\n",
    "    symbol = dict(higgs_85=\"r^\", higgs_90=\"b*\", higgs_95=\"go\")[higgs_mass]\n",
    "    plt.plot(log_reg.coef_.T, helpers.symbol[higgs_mass], \n",
    "             label=f\"$m_\\mathrm{{H}}$ = {higgs_mass[-2:]} GeV\")\n",
    "plt.title(\"Logistic Regression after BDT preselection\")\n",
    "plt.xlabel(\"feature $f_i$\")\n",
    "plt.ylabel(\"coefficient $\\\\alpha_i$\")\n",
    "plt.xticks(np.arange(len(X_train.columns)), X_train.columns, rotation=90)\n",
    "plt.legend()\n",
    "plt.savefig(\"plots/logisitic_regression_coefficients.png\")"
   ]
  },
  {
   "cell_type": "markdown",
   "metadata": {},
   "source": [
    "## Save the model coefficients and the intercepts for future usage"
   ]
  },
  {
   "cell_type": "code",
   "execution_count": null,
   "metadata": {
    "tags": []
   },
   "outputs": [],
   "source": [
    "for higgs_mass, log_reg in log_regs.items():\n",
    "    print(higgs_mass)\n",
    "    coefs = np.concatenate([log_reg.coef_[0], log_reg.intercept_])\n",
    "    print(coefs, \"\\n\")\n",
    "    helpers.log_reg_coeffs_dir.mkdir(parents=True, exist_ok=True)\n",
    "    np.savetxt(helpers.log_reg_coeffs_dir / f\"{higgs_mass}.txt\", coefs)"
   ]
  }
 ],
 "metadata": {
  "kernelspec": {
   "display_name": "Python 3.8.5 64-bit ('Higgs-L3': conda)",
   "language": "python",
   "name": "python38564bithiggsl3conda141e2cf07ec6480bb46052f1e5673410"
  },
  "language_info": {
   "codemirror_mode": {
    "name": "ipython",
    "version": 2
   },
   "file_extension": ".py",
   "mimetype": "text/x-python",
   "name": "python",
   "nbconvert_exporter": "python",
   "pygments_lexer": "ipython2",
   "version": "3.8.5-final"
  }
 },
 "nbformat": 4,
 "nbformat_minor": 2
}
