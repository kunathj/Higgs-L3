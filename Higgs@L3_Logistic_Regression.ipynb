{
 "cells": [
  {
   "cell_type": "markdown",
   "metadata": {},
   "source": [
    "# What happens in this notebook :-)\n",
    "\n",
    "* We read in MC samples for background and different signal models. We also read in the actual data from the L3 detector.\n",
    "\n",
    "* We train a linear model called Logistic Regression.\n",
    "\n",
    "* The coefficients found by the algorithm are plotted and used in Higgs@L3-2D.ipynb.\n"
   ]
  },
  {
   "cell_type": "markdown",
   "metadata": {},
   "source": [
    "### import packages"
   ]
  },
  {
   "cell_type": "code",
   "execution_count": null,
   "metadata": {},
   "outputs": [],
   "source": [
    "from sklearn.model_selection import train_test_split\n",
    "from sklearn.datasets import load_breast_cancer\n",
    "from sklearn.linear_model import LogisticRegression\n",
    "\n",
    "from sklearn.svm import LinearSVC\n",
    "from sklearn.tree import DecisionTreeClassifier\n",
    "\n",
    "import itertools\n",
    "import numpy as np\n",
    "import matplotlib.pyplot as plt\n",
    "import pandas as pd\n",
    "import os\n",
    "\n",
    "import plotting as pl\n",
    "import helpers\n",
    "\n",
    "import pickle\n",
    "\n",
    "from load_data import data, mc_higgs_models, mc_no_higgs_frames"
   ]
  },
  {
   "cell_type": "markdown",
   "metadata": {},
   "source": [
    "### Load the BDT from sig-bkg classification"
   ]
  },
  {
   "cell_type": "code",
   "execution_count": null,
   "metadata": {},
   "outputs": [],
   "source": [
    "with open('tmp/BDT_higgs_85.pkl', 'rb') as fid:\n",
    "    gnb_loaded = pickle.load(fid)\n",
    "gnb_loaded.get_params()"
   ]
  },
  {
   "cell_type": "code",
   "execution_count": null,
   "metadata": {},
   "outputs": [],
   "source": [
    "for frame in itertools.chain(mc_higgs_models.values(), \n",
    "                             mc_no_higgs_frames.values(), \n",
    "                             [data]):\n",
    "    frame[\"BDT_selCut\"] = gnb_loaded.decision_function(frame[helpers.kinematical_vars])\n"
   ]
  },
  {
   "cell_type": "code",
   "execution_count": null,
   "metadata": {
    "tags": []
   },
   "outputs": [],
   "source": [
    "print('There are ', len(data['weight']), 'data events recorded')\n",
    "\n",
    "cut = -3.15# -3.4#1.41379310345\n",
    "print('There are ', len(data[data['BDT_selCut']>cut]['weight']), 'candidates selected after the cut')"
   ]
  },
  {
   "cell_type": "code",
   "execution_count": null,
   "metadata": {},
   "outputs": [],
   "source": [
    "mc_no_higgs = pd.concat(mc_no_higgs_frames, ignore_index=True) \n",
    "df_mH = pd.concat([mc_no_higgs, mc_higgs_models[\"higgs_85\"]], ignore_index=True)\n",
    "df_mH = df_mH[helpers.kinematical_vars + [\"class\", \"weight\", \"BDT_selCut\"]]\n",
    "\n",
    "df_mH = df_mH[df_mH[\"BDT_selCut\"] > cut]\n",
    "del df_mH[\"BDT_selCut\"]"
   ]
  },
  {
   "cell_type": "markdown",
   "metadata": {},
   "source": [
    "# Delete mmis because this is already the one golden disc variable"
   ]
  },
  {
   "cell_type": "code",
   "execution_count": null,
   "metadata": {},
   "outputs": [],
   "source": [
    "# Delete mmis because this is already the one golden disc variable\n",
    "del df_mH['mmis']\n",
    "\n",
    "# extract target values\n",
    "target = df_mH['class']\n",
    "del df_mH['class']"
   ]
  },
  {
   "cell_type": "code",
   "execution_count": null,
   "metadata": {
    "tags": []
   },
   "outputs": [],
   "source": [
    "X_train, X_test, y_train, y_test = train_test_split(df_mH, target, \n",
    "                                                    stratify=target, \n",
    "                                                    random_state=42,\n",
    "                                                   train_size=0.65)\n",
    "X_train_w = X_train['weight']\n",
    "X_test_w = X_test['weight']\n",
    "\n",
    "\n",
    "print('No of train events', len(y_train))\n",
    "print('No of signal events',np.count_nonzero(y_train))\n",
    "print('fraction of bkg in training set',1 - 1.*np.count_nonzero(y_train) / len(y_train))\n",
    "\n",
    "print('-----------------------------')\n",
    "\n",
    "print('No of test events',len(y_test))\n",
    "print('No of signal events',np.count_nonzero(y_test))\n",
    "print('fraction of bkg in test set',1 - 1.*np.count_nonzero(y_test) / len(y_test))\n",
    "\n",
    "\n",
    "del X_train['weight']\n",
    "del X_test['weight']\n"
   ]
  },
  {
   "cell_type": "code",
   "execution_count": null,
   "metadata": {},
   "outputs": [],
   "source": [
    "logreg = LogisticRegression(C=100).fit(X_train, y_train,sample_weight=X_train_w)"
   ]
  },
  {
   "cell_type": "code",
   "execution_count": null,
   "metadata": {
    "tags": []
   },
   "outputs": [],
   "source": [
    "print(\"Training set score: {:.3f}\".format(logreg.score(X_train, y_train)))\n",
    "print(\"Test set score: {:.3f}\".format(logreg.score(X_test, y_test)))"
   ]
  },
  {
   "cell_type": "code",
   "execution_count": null,
   "metadata": {},
   "outputs": [],
   "source": [
    "#plt.figure(figsize=(3,3))\n",
    "plt.plot(logreg.coef_.T,'r^')\n",
    "plt.title('Logistic Regression ($m_\\mathrm{H}$ = 85 GeV)')\n",
    "plt.ylabel(r'coefficient $\\alpha_i$',fontsize=14)\n",
    "plt.xlabel(r'feature $f_i$',fontsize=14)\n",
    "#plt.plot(tree.coef_.T,'bo',label='tree')\n",
    "\n",
    "plt.xticks(np.arange(X_train.shape[1]),X_train.columns,rotation=90)\n",
    "plt.savefig(\"plots/LogRegCoef.png\")"
   ]
  },
  {
   "cell_type": "code",
   "execution_count": null,
   "metadata": {
    "tags": []
   },
   "outputs": [],
   "source": [
    "print(logreg.coef_)"
   ]
  },
  {
   "cell_type": "code",
   "execution_count": null,
   "metadata": {},
   "outputs": [],
   "source": [
    "coef_85 = np.array([ 0.313,  0.195,  0.284, -0.002, -0.031,  0.069, -0.019, -0.053,\n",
    "       -0.173, -0.232, -0.295,  0.011,  0.004, -0.019,  0.009, -0.052,\n",
    "       -0.033, -0.055, -0.003, -0.036,  0.106, -0.059, -0.006,  0.034,\n",
    "        0.011, -0.027, -0.032,  0.057,  0.001, -0.003, -0.011,  0.024])\n",
    "\n",
    "coef_90 = np.array([ 0.127,  0.184,  0.217, -0.043, -0.029, -0.016,  0.044, -0.046,\n",
    "       -0.084, -0.149, -0.297,  0.002,  0.044,  0.051,  0.011, -0.049,\n",
    "        0.039,  0.029,  0.012, -0.03 ,  0.072, -0.036,  0.03 , -0.001,\n",
    "        0.053, -0.03 , -0.026,  0.028, -0.018, -0.004, -0.032, -0.046])\n",
    "\n",
    "coef_95 = np.array([ 0.106,  0.048,  0.134, -0.091, -0.146,  0.059,  0.116,  0.008,\n",
    "       -0.073, -0.094, -0.192, -0.001,  0.059,  0.021,  0.062, -0.023,\n",
    "        0.039,  0.059,  0.018, -0.012,  0.035, -0.043,  0.069,  0.016,\n",
    "       -0.002, -0.022,  0.001,  0.057,  0.006,  0.005,  0.013,  0.027])"
   ]
  },
  {
   "cell_type": "code",
   "execution_count": null,
   "metadata": {},
   "outputs": [],
   "source": [
    "coef_90_2 = np.array([ 0.158,  0.244,  0.335, -0.027, -0.078, -0.033,  0.115, -0.09 ,\n",
    "       -0.047, -0.152, -0.198, -0.002, -0.   , -0.017, -0.01 , -0.023,\n",
    "        0.035, -0.069, -0.048, -0.042,  0.11 , -0.004,  0.012,  0.022,\n",
    "        0.009, -0.032, -0.026, -0.002, -0.024, -0.   , -0.02 , -0.14 ])"
   ]
  }
 ],
 "metadata": {
  "kernelspec": {
   "display_name": "Python 3.8.5 64-bit ('Higgs-L3': conda)",
   "language": "python",
   "name": "python38564bithiggsl3conda141e2cf07ec6480bb46052f1e5673410"
  },
  "language_info": {
   "codemirror_mode": {
    "name": "ipython",
    "version": 2
   },
   "file_extension": ".py",
   "mimetype": "text/x-python",
   "name": "python",
   "nbconvert_exporter": "python",
   "pygments_lexer": "ipython2",
   "version": "3.8.5-final"
  }
 },
 "nbformat": 4,
 "nbformat_minor": 2
}
