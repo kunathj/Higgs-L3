{
 "cells": [
  {
   "cell_type": "markdown",
   "metadata": {},
   "source": [
    "# What happens in this notebook :-)\n",
    "\n",
    "* We read in MC samples for background and different signal models. We also read in the actual data from the L3 detector.\n",
    "\n",
    "* We train a BDT for a binary classification problem aiming to seperate signal from background.\n",
    "\n",
    "* Different checks such as generalization of the BDT on the test sample as well as the confusion matrix are shown.\n",
    "\n",
    "* We use the BDT response to place our cut, so we analyze efficiencies and purities for different cut positions.\n",
    "\n",
    "* The BDT is saved in a pickel file."
   ]
  },
  {
   "cell_type": "code",
   "execution_count": null,
   "metadata": {},
   "outputs": [],
   "source": [
    "from sklearn.model_selection import train_test_split\n",
    "from sklearn.tree import DecisionTreeClassifier\n",
    "from sklearn.ensemble import GradientBoostingClassifier\n",
    "\n",
    "import numpy as np\n",
    "import matplotlib.pyplot as plt\n",
    "import pandas as pd\n",
    "import pickle\n",
    "import os\n",
    "\n",
    "import plotting as pl\n",
    "import helpers\n",
    "\n",
    "from sklearn.metrics import confusion_matrix\n",
    "import itertools"
   ]
  },
  {
   "cell_type": "markdown",
   "metadata": {},
   "source": [
    "### Read in the data"
   ]
  },
  {
   "cell_type": "code",
   "execution_count": null,
   "metadata": {},
   "outputs": [],
   "source": [
    "from load_data import data, mc_higgs_models, mc_no_higgs_frames"
   ]
  },
  {
   "cell_type": "markdown",
   "metadata": {},
   "source": [
    "# Pick the Signal Model and produce data frames"
   ]
  },
  {
   "cell_type": "code",
   "execution_count": null,
   "metadata": {},
   "outputs": [],
   "source": [
    "def getTrainAndTest(higgs_mass):\n",
    "    df_no_higgs = pd.concat(mc_no_higgs_frames)\n",
    "    df_higgs = mc_higgs_models[higgs_mass]\n",
    "    df_MVA = pd.concat([df_no_higgs, df_higgs])\n",
    "    df_MVA = df_MVA[helpers.kinematical_vars + [\"class\", \"weight\"]]\n",
    "\n",
    "    target = df_MVA.pop(\"class\")\n",
    "\n",
    "    X_train, X_test, y_train, y_test = train_test_split(df_MVA, target, \n",
    "        stratify=target, random_state=42,train_size=0.65)\n",
    "\n",
    "    X_train_w = X_train.pop(\"weight\")\n",
    "    X_test_w = X_test.pop(\"weight\")\n",
    "\n",
    "    return X_train, X_test, y_train, y_test, X_train_w, X_test_w \n",
    "     \n",
    "\n",
    "def fitClassifier(higgs_mass):\n",
    "    grbcl = GradientBoostingClassifier(max_depth=3, random_state=0,\n",
    "        learning_rate=0.01,\n",
    "        n_estimators=300,\n",
    "    )\n",
    "    print(\"A classifier with the following parameters will be fitted \"\n",
    "        f\"for the mass hypothesis {higgs_mass}:\\n\\n\", grbcl.get_params())\n",
    "    X_train, X_test, y_train, y_test, X_train_w, X_test_w = getTrainAndTest(higgs_mass)\n",
    "    grbcl.fit(X_train, y_train, sample_weight=X_train_w)\n",
    "    return grbcl\n",
    "\n",
    "def getClassifier(higgs_mass):\n",
    "    bdt_path = f\"tmp/BDT_{higgs_mass}.pkl\"\n",
    "    if not os.path.exists(bdt_path):\n",
    "        grbcl = fitClassifier(higgs_mass)\n",
    "        with open(bdt_path, \"wb\") as fid:\n",
    "            pickle.dump(grbcl, fid)  \n",
    "    else:\n",
    "        with open(bdt_path, \"rb\") as fid:\n",
    "            grbcl = pickle.load(fid)\n",
    "    return grbcl"
   ]
  },
  {
   "cell_type": "code",
   "execution_count": null,
   "metadata": {
    "tags": []
   },
   "outputs": [],
   "source": [
    "#for higgs_mass in [\"higgs_85\"]:\n",
    "for higgs_mass in mc_higgs_models:\n",
    "    grbcl = getClassifier(higgs_mass)\n",
    "    X_train, X_test, y_train, y_test, X_train_w, X_test_w = getTrainAndTest(higgs_mass)"
   ]
  },
  {
   "cell_type": "markdown",
   "metadata": {},
   "source": [
    "# Evaluate the Gradient Boosting Classifier"
   ]
  },
  {
   "cell_type": "code",
   "execution_count": null,
   "metadata": {
    "tags": []
   },
   "outputs": [],
   "source": [
    "print(\"Training set score: {:.3f}\".format(grbcl.score(X_train, y_train,sample_weight=X_train_w)))\n",
    "print(\"Test set score: {:.3f}\".format(grbcl.score(X_test, y_test,sample_weight=X_test_w)))"
   ]
  },
  {
   "cell_type": "code",
   "execution_count": null,
   "metadata": {
    "tags": []
   },
   "outputs": [],
   "source": [
    "importance = grbcl.feature_importances_\n",
    "feature = np.arange(len(X_train.columns))\n",
    "\n",
    "print(importance)\n",
    "print(importance.sum())\n",
    "fig, ax = plt.subplots()\n",
    "\n",
    "plt.title(f\"feature importance ($m_\\mathrm{{H}} = {higgs_mass[-2:]}$ GeV)\")\n",
    "plt.plot(feature,importance*100,'b*')\n",
    "plt.xticks(feature)\n",
    "ax.set_xticklabels(X_train.columns,rotation=90)\n",
    "plt.xlabel('features')\n",
    "plt.ylabel('feature importance [%]')\n",
    "plt.savefig(\"plots/feature_importance.png\")"
   ]
  },
  {
   "cell_type": "code",
   "execution_count": null,
   "metadata": {
    "tags": []
   },
   "outputs": [],
   "source": [
    "y_pred = grbcl.predict(X_test)\n",
    "print(len(y_pred))\n",
    "print(len(y_test))\n",
    "\n",
    "cm = confusion_matrix(y_pred,y_test)#,labels=[\"bkg\",\"sig\"])\n",
    "cm = cm.T\n",
    "print(cm)\n",
    "\n",
    "cmap = plt.cm.Blues\n",
    "# normalize\n",
    "cm = cm.astype('float') / cm.sum(axis=1)[:, np.newaxis]\n",
    "\n",
    "\n",
    "plt.imshow(cm, interpolation='nearest', cmap=cmap)\n",
    "plt.colorbar()\n",
    "tick_marks = np.arange(2)\n",
    "classes = ['bkg','sig']\n",
    "plt.xticks(tick_marks, classes)\n",
    "plt.yticks(tick_marks, classes)\n",
    "\n",
    "\n",
    "\n",
    "thresh = cm.max() / 2.\n",
    "for i, j in itertools.product(range(cm.shape[0]), range(cm.shape[1])):\n",
    "    plt.text(j, i, str(np.round(cm[i, j]*100,0))+' %',\n",
    "             horizontalalignment=\"center\",\n",
    "             color=\"white\" if cm[i, j] > thresh else \"black\")\n",
    "\n",
    "plt.title(r'Confusion Matrix ($m_\\mathrm{H}$ = 85 GeV)')\n",
    "plt.ylabel('true category')\n",
    "plt.xlabel('predicted category')\n",
    "plt.savefig(\"plots/confusion_matrix.png\")"
   ]
  },
  {
   "cell_type": "code",
   "execution_count": null,
   "metadata": {},
   "outputs": [],
   "source": [
    "X_train_df = X_train.copy()\n",
    "X_train_df['class'] = y_train\n",
    "\n",
    "X_test_df = X_test.copy()\n",
    "X_test_df['class'] = y_test"
   ]
  },
  {
   "cell_type": "code",
   "execution_count": null,
   "metadata": {},
   "outputs": [],
   "source": [
    "X_train_bkg = X_train_df[X_train_df['class']==0]\n",
    "X_train_sig = X_train_df[X_train_df['class']==1]\n",
    "del X_train_bkg['class']\n",
    "del X_train_sig['class']\n",
    "\n",
    "X_test_bkg = X_test_df[X_test_df['class']==0]\n",
    "X_test_sig = X_test_df[X_test_df['class']==1]\n",
    "del X_test_bkg['class']\n",
    "del X_test_sig['class']\n",
    "\n"
   ]
  },
  {
   "cell_type": "code",
   "execution_count": null,
   "metadata": {},
   "outputs": [],
   "source": [
    "# evaluate test statistics on training set\n",
    "a_bkg = grbcl.decision_function(X_train_bkg)\n",
    "a_sig = grbcl.decision_function(X_train_sig)\n",
    "\n",
    "# evaluate test statistics on test set\n",
    "b_bkg = grbcl.decision_function(X_test_bkg)\n",
    "b_sig = grbcl.decision_function(X_test_sig)\n",
    "\n"
   ]
  },
  {
   "cell_type": "code",
   "execution_count": null,
   "metadata": {
    "tags": []
   },
   "outputs": [],
   "source": [
    "print(len(a_bkg))\n",
    "binning = np.linspace(min(b_bkg),max(a_sig),30)\n",
    "binning = np.linspace(-8,5,30)\n"
   ]
  },
  {
   "cell_type": "code",
   "execution_count": null,
   "metadata": {},
   "outputs": [],
   "source": [
    "binw = binning[1] - binning[0]\n",
    "\n",
    "N_a_bkg = np.histogram(a_bkg,bins=binning)[0]\n",
    "norm_a_bkg = 1.*len(a_bkg)\n",
    "N_a_sig = np.histogram(a_sig,bins=binning)[0]\n",
    "norm_a_sig = 1.*len(a_sig)\n",
    "\n",
    "plt.bar(binning[:-1], N_a_bkg/norm_a_bkg, width=binw, label='train bkg', alpha=0.5)\n",
    "plt.bar(binning[:-1], N_a_sig/norm_a_sig, width=binw, label='train sig', alpha=0.5)\n",
    "\n",
    "\n",
    "# test set part\n",
    "N_bkg = np.histogram(b_bkg,bins=binning)[0]\n",
    "norm_bkg = 1.*len(b_bkg)\n",
    "\n",
    "N_sig = np.histogram(b_sig,bins=binning)[0]\n",
    "norm_sig = 1.*len(b_sig)\n",
    "\n",
    "plt.errorbar(binning[:-1],N_bkg/norm_bkg,xerr=binw/2.,label='test bkg',\n",
    "            yerr=np.sqrt(N_bkg)/norm_bkg,fmt='.')\n",
    "plt.errorbar(binning[:-1],N_sig/norm_sig,xerr=binw/2.,label='test sig',\n",
    "            yerr=np.sqrt(N_sig)/norm_sig,fmt='.')\n",
    "            \n",
    "plt.ylabel(r'normalized event count: $\\frac{1}{N} \\, \\frac{\\mathrm{d} N}{\\mathrm{d}t}$ ')\n",
    "plt.xlabel(r'BDT response $t$ (decision function)')\n",
    "\n",
    "plt.legend()\n",
    "plt.savefig(\"plots/BDT_generalization_performance.png\")"
   ]
  },
  {
   "cell_type": "code",
   "execution_count": null,
   "metadata": {},
   "outputs": [],
   "source": [
    "# calculate the number of events up to certain bin in t\n",
    "# of the BDT response\n",
    "sum_sig_cuts = []\n",
    "sum_bkg_cuts = []\n",
    "\n",
    "count = 0\n",
    "for s in N_sig :\n",
    "    count += s\n",
    "    sum_sig_cuts.append(count)\n",
    "\n",
    "count = 0\n",
    "for s in N_bkg :\n",
    "    count += s\n",
    "    sum_bkg_cuts.append(count)\n"
   ]
  },
  {
   "cell_type": "code",
   "execution_count": null,
   "metadata": {},
   "outputs": [],
   "source": [
    "#plt.plot(binning[:-1],1.*N_sig/(np.sqrt(N_sig + N_bkg + N_bkg)),'mo-',label='significance')\n",
    "#print(binning[:-1][np.argmax(1.*N_sig/(np.sqrt(N_sig + N_bkg + N_bkg)))])\n",
    "#plt.plot(np.sqrt(-2*(N_sig+N_bkg)*np.log(1+N_sig/N_bkg) + 2*N_sig),'ro--', label='lr significance')\n",
    "#plt.hlines(3.,0,30)\n",
    "#plt.vlines(14,0,7)\n",
    "#plt.legend()\n",
    "#plt.show()\n",
    "\n",
    "#plt.vlines(14,0,1)\n",
    "plt.plot(binning[:-1],1.-(np.array(sum_sig_cuts))/norm_sig,'co-',label='signal efficiency')\n",
    "plt.plot(binning[:-1],1.-(np.array(sum_bkg_cuts))/norm_bkg,'bo-',label='background efficiency')\n",
    "plt.plot(binning[:-1],1.*N_sig / (N_sig+N_bkg),'go-',label='signal purity')\n",
    "plt.plot(binning[:-1],(1.*N_sig / (N_sig+N_bkg))*(1.-(np.array(sum_sig_cuts))/norm_sig),'ro-',label='signal efficiency * purity')\n",
    "plt.legend()\n",
    "plt.ylabel('efficiency (purity)')\n",
    "plt.xlabel(r'BDT response $t$ (decision function)')\n",
    "plt.xlim(-6.655,2.31)\n",
    "\n",
    "plt.savefig(\"plots/BDT_eff_purity\")"
   ]
  },
  {
   "cell_type": "markdown",
   "metadata": {},
   "source": [
    "# Visualize Decision Tree"
   ]
  },
  {
   "cell_type": "code",
   "execution_count": null,
   "metadata": {},
   "outputs": [],
   "source": [
    "from sklearn.tree import export_graphviz\n",
    "import graphviz"
   ]
  },
  {
   "cell_type": "code",
   "execution_count": null,
   "metadata": {},
   "outputs": [],
   "source": [
    "tree = DecisionTreeClassifier(max_depth=2,random_state=0)\n",
    "tree.fit(X_train,y_train,sample_weight=X_train_w.values)"
   ]
  },
  {
   "cell_type": "code",
   "execution_count": null,
   "metadata": {},
   "outputs": [],
   "source": [
    "export_graphviz(tree, out_file=\"plots/tree.dot\", \n",
    "    class_names=[\"bkg\", \"sig\"], feature_names=X_train.columns, \n",
    "    impurity=False, filled=True)\n",
    "    \n",
    "with open(\"plots/tree.dot\") as f:\n",
    "    dot_graph = f.read()\n",
    "graphviz.Source(dot_graph)\n"
   ]
  }
 ],
 "metadata": {
  "kernelspec": {
   "display_name": "Python 3.8.5 64-bit ('Higgs-L3': conda)",
   "language": "python",
   "name": "python38564bithiggsl3conda141e2cf07ec6480bb46052f1e5673410"
  },
  "language_info": {
   "codemirror_mode": {
    "name": "ipython",
    "version": 2
   },
   "file_extension": ".py",
   "mimetype": "text/x-python",
   "name": "python",
   "nbconvert_exporter": "python",
   "pygments_lexer": "ipython2",
   "version": "3.8.5-final"
  }
 },
 "nbformat": 4,
 "nbformat_minor": 2
}
