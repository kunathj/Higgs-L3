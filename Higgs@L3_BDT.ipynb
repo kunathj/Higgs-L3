{
 "cells": [
  {
   "cell_type": "markdown",
   "metadata": {},
   "source": [
    "# 1. Higgs@L3_BDT\n",
    "\n",
    "## Prerequisites\n",
    "This notebook does not need any data from other code executions.\n",
    "It can be run directly after downloading the data sets.\n",
    "\n",
    "## BDT training\n",
    "A BDT is trained for each of the Higgs mass hypothesis.\n",
    "\n",
    "## BDT evaluation\n",
    "Later on, some plots descibing a BDT are produced.\n",
    "\n",
    "## Tree visualtization\n",
    "Independently from the previous calculations, a simple tree visualtization is performed."
   ]
  },
  {
   "cell_type": "code",
   "execution_count": null,
   "metadata": {},
   "outputs": [],
   "source": [
    "import itertools\n",
    "import matplotlib.pyplot as plt\n",
    "import numpy as np\n",
    "import os\n",
    "import pandas as pd\n",
    "import pickle\n",
    "from sklearn.ensemble import GradientBoostingClassifier\n",
    "from sklearn.metrics import confusion_matrix\n",
    "from sklearn.model_selection import train_test_split\n",
    "\n",
    "import helpers\n",
    "from load_data import data, mc_higgs_models, mc_no_higgs_frames"
   ]
  },
  {
   "cell_type": "markdown",
   "metadata": {},
   "source": [
    "## Obtain a classifier for each mass hypothesis"
   ]
  },
  {
   "cell_type": "code",
   "execution_count": null,
   "metadata": {},
   "outputs": [],
   "source": [
    "def getTrainAndTest(higgs_mass):\n",
    "    df_no_higgs = pd.concat(mc_no_higgs_frames)\n",
    "    df_higgs = mc_higgs_models[higgs_mass]\n",
    "    df_MVA = pd.concat([df_no_higgs, df_higgs])\n",
    "    df_MVA = df_MVA[helpers.kinematical_vars + [\"class\", \"weight\"]]\n",
    "\n",
    "    target = df_MVA.pop(\"class\")\n",
    "\n",
    "    X_train, X_test, y_train, y_test = train_test_split(df_MVA, target, \n",
    "        stratify=target, random_state=42,train_size=0.65)\n",
    "\n",
    "    X_train_w = X_train.pop(\"weight\")\n",
    "    X_test_w = X_test.pop(\"weight\")\n",
    "\n",
    "    return X_train, X_test, y_train, y_test, X_train_w, X_test_w \n",
    "     \n",
    "\n",
    "def fitClassifier(higgs_mass):\n",
    "    grbcl = GradientBoostingClassifier(max_depth=3, random_state=0,\n",
    "        learning_rate=0.01,\n",
    "        n_estimators=300,\n",
    "    )\n",
    "    print(\"A classifier with the following parameters will be fitted \"\n",
    "        f\"for the mass hypothesis {higgs_mass}:\\n\\n\", grbcl.get_params())\n",
    "    X_train, X_test, y_train, y_test, X_train_w, X_test_w = getTrainAndTest(higgs_mass)\n",
    "    grbcl.fit(X_train, y_train, sample_weight=X_train_w)\n",
    "    return grbcl\n",
    "\n",
    "def getClassifier(higgs_mass):\n",
    "    bdt_path = f\"tmp/BDT_{higgs_mass}.pkl\"\n",
    "    if not os.path.exists(bdt_path):\n",
    "        grbcl = fitClassifier(higgs_mass)\n",
    "        with open(bdt_path, \"wb\") as fid:\n",
    "            pickle.dump(grbcl, fid)  \n",
    "    else:\n",
    "        with open(bdt_path, \"rb\") as fid:\n",
    "            grbcl = pickle.load(fid)\n",
    "    return grbcl"
   ]
  },
  {
   "cell_type": "code",
   "execution_count": null,
   "metadata": {
    "tags": []
   },
   "outputs": [],
   "source": [
    "bdts = {}\n",
    "#for higgs_mass in [\"higgs_85\"]:\n",
    "for higgs_mass in mc_higgs_models:\n",
    "    bdts[higgs_mass] = getClassifier(higgs_mass)\n",
    "    X_train, X_test, y_train, y_test, X_train_w, X_test_w = getTrainAndTest(higgs_mass)\n",
    "    print(f\"{higgs_mass} training score: {100*bdts[higgs_mass].score(X_train, y_train, sample_weight=X_train_w):.2f} %.\")\n",
    "    print(f\"{higgs_mass} test set score: {100*bdts[higgs_mass].score(X_test, y_test, sample_weight=X_test_w):.2f} %.\\n\")"
   ]
  },
  {
   "cell_type": "code",
   "execution_count": null,
   "metadata": {},
   "outputs": [],
   "source": [
    "for higgs_mass, bdt in bdts.items():\n",
    "    plt.plot(100*bdt.feature_importances_, helpers.symbol[higgs_mass], \n",
    "             label=f\"$m_\\mathrm{{H}}$ = {higgs_mass[-2:]} GeV\")\n",
    "plt.title(\"BDT feature importance\")\n",
    "plt.xlabel(\"features\")\n",
    "plt.ylabel(\"feature importance [%]\")\n",
    "plt.xticks(np.arange(len(X_train.columns)), X_train.columns, rotation=90)\n",
    "plt.legend()\n",
    "plt.savefig(\"plots/feature_importance.png\")"
   ]
  },
  {
   "cell_type": "markdown",
   "metadata": {},
   "source": [
    "## Look further into one of the Gradient Boosting Classifiers"
   ]
  },
  {
   "cell_type": "code",
   "execution_count": null,
   "metadata": {},
   "outputs": [],
   "source": [
    "higgs_mass = \"higgs_85\"\n",
    "\n",
    "bdt = bdts[higgs_mass]\n",
    "X_train, X_test, y_train, y_test, X_train_w, X_test_w = getTrainAndTest(higgs_mass)"
   ]
  },
  {
   "cell_type": "code",
   "execution_count": null,
   "metadata": {
    "tags": []
   },
   "outputs": [],
   "source": [
    "y_pred = bdt.predict(X_test)\n",
    "\n",
    "cm_total_counts = confusion_matrix(y_pred,y_test)\n",
    "cm_normalized = cm_total_counts / cm_total_counts.sum(axis=0)\n",
    "cm = cm_normalized.T\n",
    "\n",
    "plt.imshow(cm, interpolation=\"nearest\", cmap=plt.cm.Blues)\n",
    "classes = [\"bkg\", \"sig\"]\n",
    "plt.xticks(np.arange(len(classes)), classes)\n",
    "plt.yticks(np.arange(len(classes)), classes)\n",
    "\n",
    "thresh = cm.max() / 2.\n",
    "for i, j in itertools.product(range(cm.shape[0]), range(cm.shape[1])):\n",
    "    plt.text(j, i, f\"{np.round(cm[i, j]*100, 0)} %\",\n",
    "             horizontalalignment=\"center\",\n",
    "             color=\"white\" if cm[i, j] > thresh else \"black\")\n",
    "\n",
    "plt.title(f\"Confusion Matrix ($m_\\mathrm{{H}}$ = {higgs_mass[-2:]} GeV)\")\n",
    "plt.ylabel(\"true category\")\n",
    "plt.xlabel(\"predicted category\")\n",
    "plt.savefig(f\"plots/confusion_matrix_{higgs_mass}.png\")"
   ]
  },
  {
   "cell_type": "markdown",
   "metadata": {},
   "source": [
    "### The BDT response"
   ]
  },
  {
   "cell_type": "code",
   "execution_count": null,
   "metadata": {},
   "outputs": [],
   "source": [
    "train_bkg = bdt.decision_function(X_train[y_train == 0])\n",
    "train_sig = bdt.decision_function(X_train[y_train == 1])\n",
    "\n",
    "test_bkg = bdt.decision_function(X_test[y_test == 0])\n",
    "test_sig = bdt.decision_function(X_test[y_test == 1])"
   ]
  },
  {
   "cell_type": "code",
   "execution_count": null,
   "metadata": {
    "tags": []
   },
   "outputs": [],
   "source": [
    "binning = np.linspace(\n",
    "    min((min(b) for b in [train_bkg, train_sig, test_bkg, test_sig])),\n",
    "    max((max(b) for b in [train_bkg, train_sig, test_bkg, test_sig])),\n",
    "    30,\n",
    ")\n",
    "x = (binning[1:] + binning[:-1]) / 2.\n",
    "w = binning[1] - binning[0]"
   ]
  },
  {
   "cell_type": "code",
   "execution_count": null,
   "metadata": {},
   "outputs": [],
   "source": [
    "h_train_bkg = np.histogram(train_bkg, bins=binning)[0]\n",
    "h_train_sig = np.histogram(train_sig, bins=binning)[0]\n",
    "\n",
    "plt.bar(x, h_train_bkg/len(train_bkg), width=binw, label=\"train bkg\", alpha=0.5)\n",
    "plt.bar(x, h_train_sig/len(train_sig), width=binw, label=\"train sig\", alpha=0.5)\n",
    "\n",
    "\n",
    "h_test_bkg = np.histogram(test_bkg, bins=binning)[0]\n",
    "h_test_sig = np.histogram(test_sig, bins=binning)[0]\n",
    "\n",
    "plt.errorbar(x, h_test_bkg/len(test_bkg), xerr=w/2., label=\"test bkg\", fmt=\".\",\n",
    "            yerr=np.sqrt(h_test_bkg)/len(test_bkg))\n",
    "plt.errorbar(x, h_test_sig/len(test_sig), xerr=w/2., label=\"test sig\", fmt='.',\n",
    "            yerr=np.sqrt(h_test_sig)/len(test_sig))\n",
    "            \n",
    "plt.xlabel(\"BDT response\")\n",
    "plt.ylabel(\"Normalized event count\")\n",
    "plt.title(\"BDT response for signal and background\")\n",
    "\n",
    "plt.legend()\n",
    "plt.savefig(\"plots/BDT_generalization_performance.png\")"
   ]
  },
  {
   "cell_type": "code",
   "execution_count": null,
   "metadata": {},
   "outputs": [],
   "source": [
    "sig_eff = 1 - np.cumsum(h_test_sig)/len(test_sig)\n",
    "bkg_eff = 1 - np.cumsum(h_test_bkg)/len(test_bkg)\n",
    "sig_purity = h_test_sig / (h_test_sig + h_test_bkg)\n",
    "\n",
    "plt.plot(x, sig_eff, \"co-\", label=\"signal efficiency\")\n",
    "plt.plot(x, bkg_eff, \"bo-\", label=\"background efficiency\")\n",
    "plt.plot(x, sig_purity, \"go-\", label=\"signal purity\")\n",
    "plt.plot(x, sig_eff * sig_purity,   \n",
    "                        \"ro-\", label=\"signal efficiency * purity\")\n",
    "plt.legend()\n",
    "plt.xlabel(\"BDT response\")\n",
    "plt.xlim(min(x)-w/2, max(test_sig)+w)\n",
    "plt.title(\"BDT test efficiency and purity\")\n",
    "plt.savefig(\"plots/BDT_eff_purity.png\")"
   ]
  },
  {
   "cell_type": "markdown",
   "metadata": {},
   "source": [
    "## Visualization of a  Decision Tree"
   ]
  },
  {
   "cell_type": "code",
   "execution_count": null,
   "metadata": {},
   "outputs": [],
   "source": [
    "from sklearn.tree import DecisionTreeClassifier, export_graphviz\n",
    "import graphviz"
   ]
  },
  {
   "cell_type": "code",
   "execution_count": null,
   "metadata": {},
   "outputs": [],
   "source": [
    "X_train, X_test, y_train, y_test, X_train_w, X_test_w = getTrainAndTest(\"higgs_85\")\n",
    "tree = DecisionTreeClassifier(max_depth=2,random_state=0)\n",
    "tree.fit(X_train, y_train, sample_weight=X_train_w.values)"
   ]
  },
  {
   "cell_type": "code",
   "execution_count": null,
   "metadata": {},
   "outputs": [],
   "source": [
    "export_graphviz(tree, out_file=\"plots/tree.dot\", \n",
    "    class_names=[\"bkg\", \"sig\"], feature_names=X_train.columns, \n",
    "    impurity=False, filled=True\n",
    ")\n",
    "\n",
    "with open(\"plots/tree.dot\") as f:\n",
    "    dot_graph = f.read()\n",
    "graphviz.Source(dot_graph)\n"
   ]
  }
 ],
 "metadata": {
  "kernelspec": {
   "display_name": "Python 3.8.5 64-bit ('Higgs-L3': conda)",
   "language": "python",
   "name": "python38564bithiggsl3conda141e2cf07ec6480bb46052f1e5673410"
  },
  "language_info": {
   "codemirror_mode": {
    "name": "ipython",
    "version": 2
   },
   "file_extension": ".py",
   "mimetype": "text/x-python",
   "name": "python",
   "nbconvert_exporter": "python",
   "pygments_lexer": "ipython2",
   "version": "3.8.5-final"
  }
 },
 "nbformat": 4,
 "nbformat_minor": 2
}
