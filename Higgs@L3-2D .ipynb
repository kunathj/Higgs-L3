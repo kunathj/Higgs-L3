{
 "cells": [
  {
   "cell_type": "markdown",
   "metadata": {},
   "source": [
    "# 3. Higgs@L3-2D\n",
    "\n",
    "Here we want to look into two-dimensional distributions.\n",
    "\n",
    "## Prerequisites\n",
    "\n",
    "The calculations build on both the BDT variables and the Logistic Regression output.\n",
    "Those two steps/notebooks have to be executed first.\n",
    "\n",
    "## Preselection \n",
    "\n",
    "The preselection schemes used in this notebook are:\n",
    "\n",
    "1. **No preselection**.\n",
    "2. Preselection by  1D and 2D cuts that were chosen **by eye**.\n",
    "3. Preselection using machine learning **algorithm responses**:\n",
    "  - The previously trained BDT response.\n",
    "  - The previously trained Logistic Regression response.\n",
    "   \n",
    "## Likelihood analysis\n",
    "\n",
    "The same kind of likelihood analysis as in `Higgs@L3.ipynb` can be performed in this case as well.\n",
    "For more documentation, we refer to that notebook.\n",
    "\n",
    "Since here we build 2D, instead of 1D, histograms, empty bins are more likely and should be handled in a meaningful way.\n",
    "Especially thought has to be put into the case of bins with zero background expectation, but non-zero signal/data.\n",
    "As this is a sign of not enough Monte Carlo data, a rebinning should be performed."
   ]
  },
  {
   "cell_type": "code",
   "execution_count": null,
   "metadata": {},
   "outputs": [],
   "source": [
    "import itertools\n",
    "import numpy as np\n",
    "import matplotlib.pyplot as plt\n",
    "import pandas as pd\n",
    "\n",
    "import helpers\n",
    "from load_data import data, mc_higgs_models, mc_no_higgs_frames, getPreselectedSBD\n",
    "from plotting import BkgSigHistos, LogLikRatioPlots\n",
    "from stats import LogLikRatio, LogLikRatioObserved\n",
    "import variables"
   ]
  },
  {
   "cell_type": "code",
   "execution_count": null,
   "metadata": {},
   "outputs": [],
   "source": [
    "mc_no_higgs = pd.concat(mc_no_higgs_frames, ignore_index=True) "
   ]
  },
  {
   "cell_type": "markdown",
   "metadata": {},
   "source": [
    "## Composed variable with MVA methods\n",
    "\n",
    "Using the coefficients from Higgs@L3_Logistic_Regression.ipynb"
   ]
  },
  {
   "cell_type": "code",
   "execution_count": null,
   "metadata": {
    "tags": []
   },
   "outputs": [],
   "source": [
    "for frame in itertools.chain(mc_higgs_models.values(), \n",
    "                             mc_no_higgs_frames.values(), \n",
    "                             [mc_no_higgs, data]):\n",
    "    helpers.addLogisticRegressionResults(df=frame)\n"
   ]
  },
  {
   "cell_type": "markdown",
   "metadata": {},
   "source": [
    "# Prepare the histograms (Selection Cuts)"
   ]
  },
  {
   "cell_type": "code",
   "execution_count": null,
   "metadata": {
    "tags": []
   },
   "outputs": [],
   "source": [
    "variable =  \"mmis\"\n",
    "binning = variables.info[variable][\"binning\"]\n",
    "by_eye_bkgs = {}\n",
    "by_eye_sigs = {} \n",
    "by_eye_datas = {} \n",
    "\n",
    "for m_higgs, higgs_model_df in mc_higgs_models.items():\n",
    "    bkg = np.zeros(len(binning)-1)\n",
    "    for bkg_df in mc_no_higgs_frames.values():\n",
    "        df = bkg_df[helpers.byEyeSelectionCut(bkg_df, int(m_higgs[-2:]))]\n",
    "        bkg += np.histogram(df[variable], bins=binning, weights=df[\"weight\"])[0]\n",
    "    by_eye_bkgs[m_higgs] = bkg\n",
    "\n",
    "    df = higgs_model_df[helpers.byEyeSelectionCut(higgs_model_df, int(m_higgs[-2:]))]\n",
    "    by_eye_sigs[m_higgs] = np.histogram(df[variable], bins=binning, weights=df[\"weight\"])[0]\n",
    "\n",
    "    df = data[helpers.byEyeSelectionCut(data, int(m_higgs[-2:]))]\n",
    "    by_eye_datas[m_higgs] = np.histogram(df[variable], bins=binning, weights=df[\"weight\"])[0]\n",
    "\n",
    "    print(f\"# Data events in model {m_higgs}: {sum(by_eye_datas[m_higgs])}.\")"
   ]
  },
  {
   "cell_type": "code",
   "execution_count": null,
   "metadata": {},
   "outputs": [],
   "source": [
    "BkgSigHistos(backgrounds=by_eye_bkgs, signals=by_eye_sigs, datas=by_eye_datas, \n",
    "                var=variable, binning=binning)\n",
    "plt.savefig(\"plots/VariableDists/{variable}\")"
   ]
  },
  {
   "cell_type": "markdown",
   "metadata": {},
   "source": [
    "## The Log-likelihood ratio we define to be\n",
    "\n",
    "$$\n",
    "    -2 \\ln (Q(m_H)) = 2 s_{tot} - 2 \\sum_{i=1}^{N_{bins}} N_i \\ln \\left( 1 + \\frac{s_i(m_H)}{b_i} \\right).\n",
    "$$"
   ]
  },
  {
   "cell_type": "code",
   "execution_count": null,
   "metadata": {},
   "outputs": [],
   "source": [
    "n_exp = 10000\n",
    "llrs, llrs_obs = {}, {}\n",
    "for higgs_mass in by_eye_bkgs:\n",
    "    llrs[higgs_mass] = LogLikRatio(\n",
    "        background=by_eye_bkgs[higgs_mass],\n",
    "        signal=by_eye_sigs[higgs_mass],\n",
    "        n_experiments=n_exp\n",
    "    )\n",
    "    llrs_obs[higgs_mass] = LogLikRatioObserved(\n",
    "        background=by_eye_bkgs[higgs_mass], \n",
    "        signal=by_eye_sigs[higgs_mass],\n",
    "        data=by_eye_datas[higgs_mass],\n",
    "    )"
   ]
  },
  {
   "cell_type": "code",
   "execution_count": null,
   "metadata": {
    "tags": []
   },
   "outputs": [],
   "source": [
    "cl_s_and_b, quantiles_b, quantiles_s_plus_b = LogLikRatioPlots(llrs, llrs_obs, n_bins=300)\n",
    "plt.savefig(f\"plots/loglikeliratio/by_eye_{variable}\")"
   ]
  },
  {
   "cell_type": "markdown",
   "metadata": {},
   "source": [
    "$$CL_s = \\frac{CL_{s+b}}{CL_b} = \\frac{CL_{s+b}}{1-(1-CL_b)}$$"
   ]
  },
  {
   "cell_type": "code",
   "execution_count": null,
   "metadata": {
    "tags": []
   },
   "outputs": [],
   "source": [
    "for higgs_mass in cl_s_and_b:\n",
    "    one_minus_cl_b, cl_s_plus_b = cl_s_and_b[higgs_mass]\n",
    "    cl_s = cl_s_plus_b / (1 - one_minus_cl_b) \n",
    "    print(f\"{higgs_mass}: Confidence level CL >= {cl_s:.3f}\")"
   ]
  },
  {
   "cell_type": "markdown",
   "metadata": {},
   "source": [
    "# 2D "
   ]
  },
  {
   "cell_type": "markdown",
   "metadata": {},
   "source": [
    "## Variable Correlations"
   ]
  },
  {
   "cell_type": "code",
   "execution_count": null,
   "metadata": {},
   "outputs": [],
   "source": [
    "var1 = \"mmis\"\n",
    "bins = (50,50)\n",
    "def corrPlot(var2, selector=None):\n",
    "    t_df = [(\"bkg\", mc_no_higgs), (\"data\", data)]\n",
    "    for higgs_mass in mc_higgs_models:\n",
    "        t_df.append((f\"{higgs_mass}_signal\", mc_higgs_models[higgs_mass]))\n",
    "    fig = plt.figure(figsize=(12, 8))\n",
    "    for i, (title, df) in enumerate(t_df):\n",
    "        if i < 2:\n",
    "            ax = plt.subplot2grid(shape=(2,6), loc=(0,1+2*i), colspan=2)\n",
    "        else:\n",
    "            ax = plt.subplot2grid(shape=(2,6), loc=(1,2*(i-2)), colspan=2)\n",
    "        if selector is not None:\n",
    "            df = selector(df)\n",
    "        ax.hist2d(df[var1], df[var2], bins=bins, weights=df[\"weight\"])\n",
    "        ax.set_xlabel(var1)\n",
    "        ax.set_ylabel(var2)\n",
    "        ax.set_title(title)\n",
    "    plt.tight_layout()\n",
    "\n",
    "for higgs_mass in mc_higgs_models:\n",
    "    var2 = f\"composed_{higgs_mass}\"\n",
    "    corrPlot(var2)\n",
    "    plt.savefig(f\"plots/corr_{var1}_{var2}\", facecolor=\"white\")"
   ]
  },
  {
   "cell_type": "markdown",
   "metadata": {},
   "source": [
    "## By-eye selection cut\n",
    "\n",
    "### Demonstration"
   ]
  },
  {
   "cell_type": "code",
   "execution_count": null,
   "metadata": {
    "tags": []
   },
   "outputs": [],
   "source": [
    "df = data[helpers.byEyeSelectionCut(data, 85, out=True)]"
   ]
  },
  {
   "cell_type": "code",
   "execution_count": null,
   "metadata": {},
   "outputs": [],
   "source": [
    "by_eye = lambda df: df[helpers.byEyeSelectionCut(df)]\n",
    "\n",
    "for higgs_mass in mc_higgs_models:\n",
    "    var2 = f\"composed_{higgs_mass}\"\n",
    "    corrPlot(var2, selector=by_eye)\n",
    "    plt.savefig(f\"plots/corr_by_eye_{var1}_{var2}\", facecolor=\"white\")"
   ]
  },
  {
   "cell_type": "markdown",
   "metadata": {},
   "source": [
    "## Boosted decision trees selection cut\n"
   ]
  },
  {
   "cell_type": "code",
   "execution_count": null,
   "metadata": {},
   "outputs": [],
   "source": [
    "s_bdt, b_bdt, d_bdt = getPreselectedSBD()\n",
    "for frame in itertools.chain(s_bdt.values(), b_bdt.values(), d_bdt.values()):\n",
    "    helpers.addLogisticRegressionResults(frame)"
   ]
  },
  {
   "cell_type": "code",
   "execution_count": null,
   "metadata": {
    "tags": []
   },
   "outputs": [],
   "source": [
    "    var1 = \"mmis\"\n",
    "    var2 = \"composed\"\n",
    "    binning = [variables.info[v][\"binning\"] for v in [var1, var2]]\n",
    "    \n",
    "    s_hist2d, b_hist2d, d_hist2d = {}, {}, {}\n",
    "    for higgs_mass in s_bdt:\n",
    "        if \"composed\" in var1:\n",
    "                var1 = \"composed_\" + higgs_mass\n",
    "                binning[0] = np.linspace(min(b_bdt[higgs_mass][var1]), \n",
    "                                         max(b_bdt[higgs_mass][var1]), \n",
    "                                         100, endpoint=True)\n",
    "        if \"composed\" in var2:\n",
    "                var2 = \"composed_\" + higgs_mass\n",
    "                binning[1] = np.linspace(min(b_bdt[higgs_mass][var2]), \n",
    "                                         max(b_bdt[higgs_mass][var2]), \n",
    "                                         100, endpoint=True)\n",
    "    \n",
    "        s_hist2d[higgs_mass] = np.histogram2d(\n",
    "                s_bdt[higgs_mass][var1], s_bdt[higgs_mass][var2], \n",
    "                bins=binning, \n",
    "                weights=s_bdt[higgs_mass][\"weight\"]\n",
    "        )[0]\n",
    "        b_hist2d[higgs_mass] = np.histogram2d(\n",
    "                b_bdt[higgs_mass][var1], b_bdt[higgs_mass][var2], \n",
    "                bins=binning, \n",
    "                weights=b_bdt[higgs_mass][\"weight\"]\n",
    "        )[0]\n",
    "        d_hist2d[higgs_mass] = np.histogram2d(\n",
    "                d_bdt[higgs_mass][var1], d_bdt[higgs_mass][var2], \n",
    "                bins=binning, \n",
    "                weights=d_bdt[higgs_mass][\"weight\"]\n",
    "        )[0]\n",
    "        print(f\"# Data events in model {higgs_mass}: {sum(sum(d_hist2d[higgs_mass]))}.\")\n",
    "   "
   ]
  },
  {
   "cell_type": "markdown",
   "metadata": {},
   "source": [
    "### Throw MC toys & calculate log likelihood ratios"
   ]
  },
  {
   "cell_type": "code",
   "execution_count": null,
   "metadata": {
    "tags": []
   },
   "outputs": [],
   "source": [
    "n_exp = 10000\n",
    "llrs, llrs_obs = {}, {}\n",
    "for higgs_mass in by_eye_bkgs:\n",
    "    llrs[higgs_mass] = LogLikRatio(\n",
    "        background=b_hist2d[higgs_mass],\n",
    "        signal=s_hist2d[higgs_mass],\n",
    "        n_experiments=n_exp\n",
    "    )\n",
    "    llrs_obs[higgs_mass] = LogLikRatioObserved(\n",
    "        background=b_hist2d[higgs_mass], \n",
    "        signal=s_hist2d[higgs_mass],\n",
    "        data=d_hist2d[higgs_mass],\n",
    "    )"
   ]
  },
  {
   "cell_type": "code",
   "execution_count": null,
   "metadata": {
    "tags": []
   },
   "outputs": [],
   "source": [
    "cl_s_and_b, quantiles_b, quantiles_s_plus_b = LogLikRatioPlots(llrs, llrs_obs, n_bins=300)\n",
    "plt.savefig(f\"plots/loglikeliratio/{var1}-{var2}\")"
   ]
  },
  {
   "cell_type": "markdown",
   "metadata": {},
   "source": [
    "## Confidence levels\n"
   ]
  },
  {
   "cell_type": "code",
   "execution_count": null,
   "metadata": {
    "tags": []
   },
   "outputs": [],
   "source": [
    "for higgs_mass in cl_s_and_b:\n",
    "    one_minus_cl_b, cl_s_plus_b = cl_s_and_b[higgs_mass]\n",
    "    cl_s = cl_s_plus_b / (1 - one_minus_cl_b) \n",
    "    print(f\"{higgs_mass}: Confidence level CL >= {cl_s:.3f}\")"
   ]
  }
 ],
 "metadata": {
  "kernelspec": {
   "display_name": "Python 3.8.5 64-bit ('Higgs-L3': conda)",
   "language": "python",
   "name": "python38564bithiggsl3conda141e2cf07ec6480bb46052f1e5673410"
  },
  "language_info": {
   "codemirror_mode": {
    "name": "ipython",
    "version": 2
   },
   "file_extension": ".py",
   "mimetype": "text/x-python",
   "name": "python",
   "nbconvert_exporter": "python",
   "pygments_lexer": "ipython2",
   "version": "3.8.5-final"
  }
 },
 "nbformat": 4,
 "nbformat_minor": 2
}
