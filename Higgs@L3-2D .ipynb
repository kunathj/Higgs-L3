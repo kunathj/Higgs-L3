{
 "cells": [
  {
   "cell_type": "markdown",
   "metadata": {},
   "source": [
    "# 3. Higgs@L3-2D\n",
    "\n",
    "Here we want to look into two-dimensional distributions.\n",
    "\n",
    "## Prerequisites\n",
    "\n",
    "The calculations build on both the BDT variables and the Logistic Regression output.\n",
    "Those two steps/notebooks have to be executed first.\n",
    "\n",
    "## Preselection \n",
    "\n",
    "The preselection schemes used in this notebook are:\n",
    "\n",
    "1. **No preselection**.\n",
    "2. Preselection by  1D and 2D cuts that were chosen **by eye**.\n",
    "3. Preselection using machine learning **algorithm responses**:\n",
    "  - The previously trained BDT response.\n",
    "  - The previously trained Logistic Regression response.\n",
    "   \n",
    "## Likelihood analysis\n",
    "\n",
    "The same kind of likelihood analysis as in `Higgs@L3.ipynb` can be performed in this case as well.\n",
    "For more documentation, we refer to that notebook.\n",
    "\n",
    "Since here we build 2D, instead of 1D, histograms, empty bins are more likely and should be handled in a meaningful way.\n",
    "Especially thought has to be put into the case of bins with zero background expectation, but non-zero signal/data.\n",
    "As this is a sign of not enough Monte Carlo data, a rebinning should be performed."
   ]
  },
  {
   "cell_type": "code",
   "execution_count": null,
   "metadata": {},
   "outputs": [],
   "source": [
    "import itertools\n",
    "import numpy as np\n",
    "import matplotlib.pyplot as plt\n",
    "import pandas as pd\n",
    "\n",
    "import plotting_2D as pl  # Has an additional funtion for 2D histograms.\n",
    "import stats as stat\n",
    "import helpers\n",
    "\n",
    "from load_data import data, mc_higgs_models, mc_no_higgs_frames\n",
    "import variables"
   ]
  },
  {
   "cell_type": "code",
   "execution_count": null,
   "metadata": {},
   "outputs": [],
   "source": [
    "mc_no_higgs = pd.concat(mc_no_higgs_frames, ignore_index=True) "
   ]
  },
  {
   "cell_type": "markdown",
   "metadata": {},
   "source": [
    "## Composed variable with MVA methods\n",
    "\n",
    "Using the coefficients from Higgs@L3_Logistic_Regression.ipynb"
   ]
  },
  {
   "cell_type": "code",
   "execution_count": null,
   "metadata": {
    "tags": []
   },
   "outputs": [],
   "source": [
    "for frame in itertools.chain(mc_higgs_models.values(), \n",
    "                             mc_no_higgs_frames.values(), \n",
    "                             [mc_no_higgs, data]):\n",
    "    helpers.addLogisticRegressionResults(df=frame)\n"
   ]
  },
  {
   "cell_type": "markdown",
   "metadata": {},
   "source": [
    "## Chose a data frame"
   ]
  },
  {
   "cell_type": "code",
   "execution_count": null,
   "metadata": {
    "tags": []
   },
   "outputs": [],
   "source": [
    "\n",
    "\n",
    "df = data[helpers.byEyeSelectionCut(data, 85, out=True)]"
   ]
  },
  {
   "cell_type": "markdown",
   "metadata": {},
   "source": [
    "# Prepare the histograms (Selection Cuts)"
   ]
  },
  {
   "cell_type": "code",
   "execution_count": null,
   "metadata": {
    "tags": []
   },
   "outputs": [],
   "source": [
    "variable =  \"mmis\"\n",
    "binning = variables.info[variable][\"binning\"]\n",
    "by_eye_bkgs = {}\n",
    "by_eye_sigs = {} \n",
    "by_eye_datas = {} \n",
    "\n",
    "for m_higgs, higgs_model_df in mc_higgs_models.items():\n",
    "    bkg = np.zeros(len(binning)-1)\n",
    "    for bkg_df in mc_no_higgs_frames.values():\n",
    "        df = bkg_df[helpers.byEyeSelectionCut(bkg_df, int(m_higgs[-2:]))]\n",
    "        bkg += np.histogram(df[variable], bins=binning, weights=df[\"weight\"])[0]\n",
    "    by_eye_bkgs[m_higgs] = bkg\n",
    "\n",
    "    df = higgs_model_df[helpers.byEyeSelectionCut(higgs_model_df, int(m_higgs[-2:]))]\n",
    "    by_eye_sigs[m_higgs] = np.histogram(df[variable], bins=binning, weights=df[\"weight\"])[0]\n",
    "\n",
    "    df = data[helpers.byEyeSelectionCut(data, int(m_higgs[-2:]))]\n",
    "    by_eye_datas[m_higgs] = np.histogram(df[variable], bins=binning, weights=df[\"weight\"])[0]\n",
    "\n",
    "    print(f\"# Data events in model {m_higgs}: {sum(by_eye_datas[m_higgs])}.\")"
   ]
  },
  {
   "cell_type": "code",
   "execution_count": null,
   "metadata": {},
   "outputs": [],
   "source": [
    "b = by_eye_bkgs[\"higgs_85\"]\n",
    "np.where(b == 717)\n",
    "by_eye_sigs[\"higgs_85\"][np.where(b == 717)].shape"
   ]
  },
  {
   "cell_type": "code",
   "execution_count": null,
   "metadata": {},
   "outputs": [],
   "source": [
    "pl.BkgSigHistos(backgrounds=by_eye_bkgs, signals=by_eye_sigs, datas=by_eye_datas, \n",
    "                var=variable, binning=binning,\n",
    "                save_as=f\"plots/VariableDists/{variable}\"\n",
    ")"
   ]
  },
  {
   "cell_type": "markdown",
   "metadata": {},
   "source": [
    "## The Log-likelihood ratio we define to be\n",
    "\n",
    "$$\n",
    "    -2 \\ln (Q(m_H)) = 2 s_{tot} - 2 \\sum_{i=1}^{N_{bins}} N_i \\ln \\left( 1 + \\frac{s_i(m_H)}{b_i} \\right).\n",
    "$$"
   ]
  },
  {
   "cell_type": "code",
   "execution_count": null,
   "metadata": {},
   "outputs": [],
   "source": [
    "n_exp = 10000\n",
    "llrs = []\n",
    "llrs_obs = []\n",
    "for higgs_mass in by_eye_bkgs:\n",
    "    llrs.append(stat.LogLikRatio(\n",
    "        background=by_eye_bkgs[higgs_mass],\n",
    "        signal=by_eye_sigs[higgs_mass],\n",
    "        n_experiments=n_exp\n",
    "    ))\n",
    "    llrs_obs.append(stat.LogLikRatioObserved(\n",
    "        background=by_eye_bkgs[higgs_mass], \n",
    "        signal=by_eye_sigs[higgs_mass],\n",
    "        data=by_eye_datas[higgs_mass],\n",
    "        ))"
   ]
  },
  {
   "cell_type": "code",
   "execution_count": null,
   "metadata": {
    "tags": []
   },
   "outputs": [],
   "source": [
    "CLlist, QuantileList_b, QuantileList_sPlusb = pl.LogLikRatioPlots(\n",
    "    llrs,\n",
    "    obs=llrs_obs, Nbins=300,\n",
    "    savepath=f\"plots/loglikeliratio/{variable}\",\n",
    ")"
   ]
  },
  {
   "cell_type": "markdown",
   "metadata": {},
   "source": [
    "$$CL_s = \\frac{CL_{s+b}}{CL_b} = \\frac{CL_{s+b}}{1-(1-CL_b)}$$"
   ]
  },
  {
   "cell_type": "code",
   "execution_count": null,
   "metadata": {
    "tags": []
   },
   "outputs": [],
   "source": [
    "CLs = [entry[1]/(1-entry[0]) for entry in CLlist]\n",
    "print(CLs)\n",
    "\n",
    "print(\"Confidence level CL >= \")\n",
    "for i in range(len(CLs)):\n",
    "    print(\"    \", 1 - CLs[i])\n"
   ]
  },
  {
   "cell_type": "markdown",
   "metadata": {},
   "source": [
    "# 2D "
   ]
  },
  {
   "cell_type": "markdown",
   "metadata": {},
   "source": [
    "## Variable Correlations"
   ]
  },
  {
   "cell_type": "code",
   "execution_count": null,
   "metadata": {
    "tags": []
   },
   "outputs": [],
   "source": [
    "# Specify the selection with the sel function.\n",
    "sel = lambda df: df[helpers.byEyeSelectionCut(df)]\n",
    "sel = lambda x: x\n",
    "\n",
    "pl.TwoDHist(var1='mmis',var2='composed',\n",
    "            mc_higgs_models={n: sel(df) for n, df in mc_higgs_models.items()},\n",
    "            mc_no_higgs=sel(mc_no_higgs), \n",
    "            data=sel(data), \n",
    "            bins=(50,50),\n",
    "            savepath=\"plots/Corr_\",\n",
    ")"
   ]
  },
  {
   "cell_type": "markdown",
   "metadata": {},
   "source": [
    "## By-eye selection cut"
   ]
  },
  {
   "cell_type": "code",
   "execution_count": null,
   "metadata": {
    "tags": []
   },
   "outputs": [],
   "source": [
    "var1 = \"mmis\"\n",
    "var2 = \"composed\"\n",
    "\n",
    "bkgModels = []\n",
    "sigModels = [] \n",
    "data_histModels = [] \n",
    "\n",
    "binning1 = variables.info[var1][\"binning\"]\n",
    "binning2 = variables.info[var2][\"binning\"]\n",
    "binning = (6,6)#(10,10)#binning=[binnning1,binning2]))\n",
    "\n",
    "# alternatively for by-eye\n",
    "for m_higgs_name, signal_df in mc_higgs_models.items():\n",
    "    if var1 == \"composed\":\n",
    "            var1 += \"_\" + m_higgs_name\n",
    "    if var2 == \"composed\":\n",
    "            var2 += \"_\" + m_higgs_name\n",
    "    try:bkg = np.zeros(binning)\n",
    "    except: bkg = np.zeros((len(binning1)-1, len(binning2)-1))\n",
    "    for bkg_df in mc_no_higgs_frames.values():            \n",
    "        df = bkg_df[helpers.byEyeSelectionCut(bkg_df, int(m_higgs_name[-2:]))]\n",
    "        bkg += np.histogram2d(df[var1], df[var2], bins=binning, weights=df[\"weight\"])[0]\n",
    "        bkgModels.append(bkg)\n",
    "    \n",
    "    df = signal_df[helpers.byEyeSelectionCut(signal_df, int(m_higgs_name[-2:]))]\n",
    "    sigModels.append(np.histogram2d(\n",
    "        df[var1], df[var2], bins=binning, weights=df[\"weight\"])[0])\n",
    "    \n",
    "    df = data[helpers.byEyeSelectionCut(data, int(m_higgs_name[-2:]))]\n",
    "    data_histModels.append(np.histogram2d(\n",
    "        df[var1], df[var2], bins=binning, weights=df[\"weight\"])[0])\n",
    "\n",
    "    print(f\"# data events in model {m_higgs_name}: {sum(sum(data_histModels[-1]))}\")\n"
   ]
  },
  {
   "cell_type": "markdown",
   "metadata": {},
   "source": [
    "## Boosted decision trees selection cut\n"
   ]
  },
  {
   "cell_type": "code",
   "execution_count": null,
   "metadata": {},
   "outputs": [],
   "source": [
    "s_bdt, b_bdt, d_bdt = {}, {}, {}\n",
    "for hyp_name in helpers.higgs_hypothesis:\n",
    "    s_bdt[hyp_name] = pd.read_csv(f\"tmp/sig_{hyp_name[-2:]}\")\n",
    "    b_bdt[hyp_name] = pd.read_csv(f\"tmp/bkg_{hyp_name[-2:]}\")\n",
    "    d_bdt[hyp_name] = pd.read_csv(f\"tmp/data_{hyp_name[-2:]}\")\n",
    "for frame in itertools.chain(s_bdt.values(), b_bdt.values(), d_bdt.values()):\n",
    "    helpers.addLogisticRegressionResults(frame)"
   ]
  },
  {
   "cell_type": "markdown",
   "metadata": {},
   "source": [
    "### search for good cuts in composed variable"
   ]
  },
  {
   "cell_type": "code",
   "execution_count": null,
   "metadata": {},
   "outputs": [],
   "source": [
    "n_bins=100\n",
    "\n",
    "for higgs_mass in s_bdt:\n",
    "    plt.figure()\n",
    "    m_h = higgs_mass[-2:]\n",
    "    _, b, _ = plt.hist(s_bdt[higgs_mass][\"composed_\"+higgs_mass], \n",
    "            bins=n_bins, label=\"sig_\"+m_h, \n",
    "            alpha=.8, density=True, color=\"red\")\n",
    "    plt.hist(b_bdt[higgs_mass][\"composed_\"+higgs_mass], \n",
    "            bins=b, label=\"bkg_\"+m_h, \n",
    "            alpha=.8, density=True, color='blue')\n",
    "    for p in []: #np.array([-5.,-1.4,0.8,5.]):\n",
    "        plt.axvline(p, color=\"black\")\n",
    "    plt.legend()\n",
    "    plt.xlabel(\"composed MVA variable\")\n",
    "    plt.ylabel(\"p.d.f.\")\n",
    "    plt.savefig(f\"plots/CutsOnMVA_{higgs_mass}.png\")"
   ]
  },
  {
   "cell_type": "code",
   "execution_count": null,
   "metadata": {
    "tags": []
   },
   "outputs": [],
   "source": [
    "var1 = \"mmis\"\n",
    "var2 = \"composed\"\n",
    "binning = [variables.info[v][\"binning\"] for v in [var1, var2]]\n",
    "\n",
    "s_hist2d, b_hist2d, d_hist2d = {}, {}, {}\n",
    "for higgs_mass in s_bdt:\n",
    "    if \"composed\" in var1:\n",
    "            var1 = \"composed_\" + higgs_mass\n",
    "            binning[0] = np.linspace(min(b_bdt[higgs_mass][var1]), \n",
    "                                     max(b_bdt[higgs_mass][var1]), \n",
    "                                     100, endpoint=True)\n",
    "    if \"composed\" in var2:\n",
    "            var2 = \"composed_\" + higgs_mass\n",
    "            binning[1] = np.linspace(min(b_bdt[higgs_mass][var2]), \n",
    "                                     max(b_bdt[higgs_mass][var2]), \n",
    "                                     100, endpoint=True)\n",
    "\n",
    "    s_hist2d[higgs_mass] = np.histogram2d(\n",
    "            s_bdt[higgs_mass][var1], s_bdt[higgs_mass][var2], \n",
    "            bins=binning, \n",
    "            weights=s_bdt[higgs_mass][\"weight\"]\n",
    "    )[0]\n",
    "    b_hist2d[higgs_mass] = np.histogram2d(\n",
    "            b_bdt[higgs_mass][var1], b_bdt[higgs_mass][var2], \n",
    "            bins=binning, \n",
    "            weights=b_bdt[higgs_mass][\"weight\"]\n",
    "    )[0]\n",
    "    d_hist2d[higgs_mass] = np.histogram2d(\n",
    "            d_bdt[higgs_mass][var1], d_bdt[higgs_mass][var2], \n",
    "            bins=binning, \n",
    "            weights=d_bdt[higgs_mass][\"weight\"]\n",
    "    )[0]\n",
    "    print(f\"# Data events in model {higgs_mass}: {sum(sum(d_hist2d[higgs_mass]))}.\")"
   ]
  },
  {
   "cell_type": "markdown",
   "metadata": {},
   "source": [
    "### Throw MC toys & calculate log likelihood ratios"
   ]
  },
  {
   "cell_type": "code",
   "execution_count": null,
   "metadata": {
    "tags": []
   },
   "outputs": [],
   "source": [
    "n_exp = 10000\n",
    "llrs = []\n",
    "llrs_obs = []\n",
    "for higgs_mass in by_eye_bkgs:\n",
    "    llrs.append(stat.LogLikRatio(\n",
    "        background=b_hist2d[higgs_mass],\n",
    "        signal=s_hist2d[higgs_mass],\n",
    "        n_experiments=n_exp\n",
    "    ))\n",
    "    llrs_obs.append(stat.LogLikRatioObserved(\n",
    "        background=b_hist2d[higgs_mass], \n",
    "        signal=s_hist2d[higgs_mass],\n",
    "        data=d_hist2d[higgs_mass],\n",
    "        ))"
   ]
  },
  {
   "cell_type": "code",
   "execution_count": null,
   "metadata": {
    "tags": []
   },
   "outputs": [],
   "source": [
    "CLlist, Quantiles_b, Quantiles_sPlusb = pl.LogLikRatioPlots(\n",
    "    llrs,\n",
    "    obs=llrs_obs, Nbins=300,\n",
    "    savepath=f\"plots/loglikeliratio/{var1}-{var2}\",\n",
    ")"
   ]
  },
  {
   "cell_type": "markdown",
   "metadata": {},
   "source": [
    "## Confidence levels\n"
   ]
  },
  {
   "cell_type": "code",
   "execution_count": null,
   "metadata": {
    "tags": []
   },
   "outputs": [],
   "source": [
    "CLs = [entry[1]/(1-entry[0]) for entry in CLlist]\n",
    "print(CLs)\n",
    "\n",
    "#print(\"binning = \", binning)\n",
    "print(\"Confidence level CL >= \")\n",
    "for i in range(len(CLs)):\n",
    "    print(\"    \", 1 - CLs[i])"
   ]
  },
  {
   "cell_type": "markdown",
   "metadata": {},
   "source": [
    "## Print data to use it in other code"
   ]
  },
  {
   "cell_type": "code",
   "execution_count": null,
   "metadata": {
    "tags": []
   },
   "outputs": [],
   "source": [
    "print(\"CLlist: \\n\", CLlist, \"\\n\")\n",
    "print(\"Quantiles_b: \\n\", Quantiles_b, \"\\n\")\n",
    "print(\"Quantiles_sPlusb: \\n\", Quantiles_sPlusb, \"\\n\")\n"
   ]
  },
  {
   "cell_type": "markdown",
   "metadata": {},
   "source": [
    "# Results:\n",
    "\n",
    "## winner:\n",
    "\n",
    "binning = [(np.linspace(50,130,28),np.array([-5.,-1.4,0.8,5.])) , (np.linspace(50,130,28),np.array([-5.,-1.8,-0.8,5.])), (np.linspace(50,130,28),np.array([-5.,-1.8,-1.,5.]))]\n",
    "\n",
    "\n",
    "    Confidence level CL >= \n",
    "     0.961754104926\n",
    "     0.63456405694\n",
    "     0.515910192215\n",
    "     \n",
    "\n",
    "## out of:\n",
    "    \n",
    "binning = [(np.linspace(50,130,14),np.array([-5.,-.1,5.])),(np.linspace(50,130,28),np.array([-5.,-1.,5.])),(np.linspace(50,130,14),np.array([-5.,-1.,5.]))] \n",
    "     \n",
    "     Confidence level CL >= \n",
    "     0.627515400411\n",
    "     0.498518831993\n",
    "     0.432560077789\n",
    "     \n",
    "binning = [(np.linspace(50,130,28),np.array([-5.,-.7,1.,5.])),(np.linspace(50,130,28),np.array([-5.,-.3,5.])),(np.linspace(50,130,28),np.array([-5.,-1.8,-1.,5.]))] \n",
    "\n",
    "    Confidence level CL >= \n",
    "     0.867198335645\n",
    "     0.311822510384\n",
    "     0.52351902392\n",
    "     \n",
    "binning = [(np.linspace(50,130,14),np.array([-5.,-1.,5.])),(np.linspace(50,130,14),np.array([-5.,-1,5.])),(np.linspace(50,130,14),np.array([-5.,-1.,5.]))] \n",
    "\n",
    "    Confidence level CL >= \n",
    "     0.784446138765\n",
    "     0.466722830666\n",
    "     0.437692955375\n",
    "\n",
    "\n",
    "binning = [(np.linspace(50,130,28),np.array([-5.,-1.,5.])),(np.linspace(50,130,28),np.array([-5.,-1,5.])),(np.linspace(50,130,28),np.array([-5.,-1.,5.]))] \n",
    "\n",
    "    Confidence level CL >= \n",
    "     0.791839859987\n",
    "     0.495279516283\n",
    "     0.475018532246\n",
    "     \n",
    "binning = [(np.linspace(50,130,14),np.array([-5.,-2,-1,0.1,5.])),(np.linspace(50,130,28),np.array([-5.,-1.8,-0.8,.7,5.])),(np.linspace(50,130,14),np.array([-5.,-1.6,-0.8,0,5.]))] \n",
    "\n",
    "    Confidence level CL >= \n",
    "     0.635538790906\n",
    "     0.509347258486\n",
    "     0.396903225806\n",
    "\n",
    "binning = [(np.linspace(50,130,14),np.linspace(-4,4,7)),(np.linspace(50,130,28),np.array([-5.,-1.8,-0.4,5.])),(np.linspace(50,130,14),np.array([-5.,-1.6,-0.8,0,1.8,5.]))] \n",
    "\n",
    "    Confidence level CL >= \n",
    "     0.848068181818\n",
    "     0.476338729763\n",
    "     0.400889121339\n",
    "     \n",
    "binning = [(np.linspace(50,130,28),np.linspace(-4,4,7)),(np.linspace(50,130,14),np.array([-5.,-1.8,-0.8,5.])),(np.linspace(50,130,28),np.array([-5.,-1.6,-0.8,0,1.8,5.]))] \n",
    "     \n",
    "    Confidence level CL >= \n",
    "     0.87096403539\n",
    "     0.610092252973\n",
    "     0.408384897083\n",
    "     \n",
    "binning = [(np.linspace(50,130,28),np.linspace(-4,4,9)),(np.linspace(50,130,14),np.array([-5.,-1.6,-0.6,5.])),(np.linspace(50,130,28),np.array([-5.,-1.6,-1.,5.]))] \n",
    "\n",
    "    Confidence level CL >= \n",
    "     0.723699182787\n",
    "     0.500732984293\n",
    "     0.523329129887\n",
    "     \n",
    "binning = [(np.linspace(50,130,28),np.linspace(-4,4,4)),(np.linspace(50,130,14),np.array([-5.,-2,-1,5.])),(np.linspace(50,130,28),np.array([-5.,-1.4,-1.,5.]))] \n",
    "\n",
    "    Confidence level CL >= \n",
    "     0.95799887997\n",
    "     0.486776946581\n",
    "     0.498662470496\n",
    "    \n",
    "     \n",
    "90 .1: 0.369854597583 (linspace 14)\n",
    "90 -2: 0.551464897734 (linspace 28)\n",
    "90 -1.8 & -0.8: 0.63482831898 (linspace 28)"
   ]
  },
  {
   "cell_type": "markdown",
   "metadata": {},
   "source": [
    "\n",
    "binning = [(7,7),(8,8),(7,4)]\n",
    "\n",
    "    Confidence level CL >= \n",
    "     0.952580028667\n",
    "     0.026902690269\n",
    "     0.3249055812\n",
    "     \n",
    "binning = [(8,6),(8,6),(7,3)]     \n",
    "\n",
    "    Confidence level CL >= \n",
    "     0.838144867118\n",
    "     0.016\n",
    "     0.410908646203\n",
    "\n",
    "binning =  [(8, 7), (2, 2), (6, 3)]\n",
    "\n",
    "    Confidence level CL >= \n",
    "     0.938706400271\n",
    "     0.162020730603\n",
    "     0.127041742287\n",
    "\n",
    "binning =  [(7, 8), (5, 4), (5, 3)]\n",
    "\n",
    "    Confidence level CL >= \n",
    "     0.929531705131\n",
    "     0.030703070307\n",
    "     0.268274383708\n",
    "     \n",
    "binning =  [(7, 6), (9, 9), (7, 4)]\n",
    "\n",
    "    Confidence level CL >= \n",
    "     0.844532554257\n",
    "     0.03971985993\n",
    "     0.324955492722\n",
    "     \n",
    "binning =  [(28,3)]\n",
    "\n",
    "    Confidence level CL >= \n",
    "     0.550010022049\n",
    "     0.14181198637\n",
    "     0.0339\n",
    "     \n",
    "binning = [(15,4),(15,4),(15,4)]\n",
    "\n",
    "    Confidence level CL >= \n",
    "     0.1064\n",
    "     0.046704670467\n",
    "     0.749083063646\n",
    "     \n",
    "binning =  [(28, 1), (28, 1), (28, 1)]\n",
    "\n",
    "    Confidence level CL >= \n",
    "     0.862589928058\n",
    "     0.432515663162\n",
    "     0.443015521064\n",
    "     \n",
    "binning =  [(28, 2), (28, 2), (28, 2)]\n",
    "\n",
    "    Confidence level CL >= \n",
    "     0.95981765997\n",
    "     0.183398653402\n",
    "     0.436894285396\n",
    "     \n",
    "     \n",
    "binning =  [(28, 3), (28, 3), (28, 3)]\n",
    "\n",
    "    Confidence level CL >= \n",
    "     0.55825145378\n",
    "     0.139593145606\n",
    "     0.0312062412483\n",
    "     \n",
    "binning =  [(14, 2), (14, 2), (14, 2)]\n",
    "\n",
    "    Confidence level CL >= \n",
    "     0.963696369637\n",
    "     0.109874686717\n",
    "     0.554731224782\n",
    "\n",
    "linspace 28*2\n",
    "    0.940685820204\n",
    "     0.281580016247\n",
    "     0.720828215476\n",
    "     \n"
   ]
  }
 ],
 "metadata": {
  "kernelspec": {
   "display_name": "Python 3.8.5 64-bit ('Higgs-L3': conda)",
   "language": "python",
   "name": "python38564bithiggsl3conda141e2cf07ec6480bb46052f1e5673410"
  },
  "language_info": {
   "codemirror_mode": {
    "name": "ipython",
    "version": 2
   },
   "file_extension": ".py",
   "mimetype": "text/x-python",
   "name": "python",
   "nbconvert_exporter": "python",
   "pygments_lexer": "ipython2",
   "version": "3.8.5-final"
  }
 },
 "nbformat": 4,
 "nbformat_minor": 2
}
