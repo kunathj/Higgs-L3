{
 "cells": [
  {
   "cell_type": "markdown",
   "metadata": {},
   "source": [
    "# What happens in this notebook :-)\n",
    "\n",
    "* We read in MC samples for background and different signal models. We also read in the actual data from the L3 detector.\n",
    "\n",
    "* There are different options to perform selection cuts (in order to reduce background).\n",
    "\n",
    "    1) Selection cut by eye, where selection cuts were chosen by looking at the variable histograms (1D or 2D).\n",
    "    \n",
    "    2) Selection cut from BDT, which was stored in a csv file coming from Higgs@L3.ipynb.\n",
    "   \n",
    "* A 1D log-Likelihood ratio analysis can be performed (see comments in Higgs@L3.ipynb).\n",
    "\n",
    "* Further, a 2D log-Likelihood ratio analysis can be performed. The second discriminating variable is a linear model combining physical (kinematical) variables. The coefficients for the linear combination are obtained from LogisticRegression classification performed in Higgs@L3_Logistic_Regression.ipynb and copy pasted here."
   ]
  },
  {
   "cell_type": "markdown",
   "metadata": {},
   "source": [
    "### import packages"
   ]
  },
  {
   "cell_type": "code",
   "execution_count": null,
   "metadata": {},
   "outputs": [],
   "source": [
    "import numpy as np\n",
    "import matplotlib.pyplot as plt\n",
    "import pandas as pd\n",
    "import os\n",
    "\n",
    "\"\"\"\n",
    "plotting_2D.py and stats_2D.py incorporate some special functions needed for the 2D analysis.\n",
    "This comes from the fact that one needs to take care about empty background bins. \n",
    "Nevertheless, some functions are shared with plotting.py and stats.py.\n",
    "\"\"\"\n",
    "import plotting_2D as pl\n",
    "import stats_2D as stat\n",
    "import helpers"
   ]
  },
  {
   "cell_type": "markdown",
   "metadata": {},
   "source": [
    "### Read in the data"
   ]
  },
  {
   "cell_type": "code",
   "execution_count": null,
   "metadata": {},
   "outputs": [],
   "source": [
    "data = pd.read_csv('data/higgs_data.csv')\n",
    "\n",
    "higgs_85 = pd.read_csv('data/higgs_higgs_85.csv')\n",
    "higgs_90 = pd.read_csv('data/higgs_higgs_90.csv')\n",
    "higgs_95 = pd.read_csv('data/higgs_higgs_95.csv')\n",
    "eeqq = pd.read_csv('data/higgs_eeqq.csv')\n",
    "qq = pd.read_csv('data/higgs_qq.csv')\n",
    "wen = pd.read_csv('data/higgs_wen.csv')\n",
    "ww = pd.read_csv('data/higgs_ww.csv')\n",
    "zee = pd.read_csv('data/higgs_zee.csv')\n",
    "zz = pd.read_csv('data/higgs_zz.csv')\n",
    "\n",
    "\n",
    "framesMC_NoHiggs = [qq, ww, zz, zee, wen, eeqq]\n",
    "framesMC_NoHiggsNames = ['qq', 'ww', 'zz', 'zee', 'wen', 'eeqq']\n",
    "\n",
    "framesMC_HiggsModels = [higgs_85, higgs_90, higgs_95]\n",
    "framesMC_HiggsModelsNames = ['higgs_85', 'higgs_90', 'higgs_95']\n",
    "\n",
    "\n",
    "\n",
    "#framesListMc = framesMcNoHiggs + [higgs_85, higgs_90, higgs_95]\n",
    "#framesListMcNames = framesMcNoHiggsNames + ['higgs_85', 'higgs_90', 'higgs_95']\n",
    "\n",
    "\n",
    "\"\"\"\n",
    "# mvisf values are to high for histograms- lower by 10e15\n",
    "for frame in framesListMc:\n",
    "    frame['mvisf']/= 10e15\n",
    "data['mvisf']/= 10e15\n",
    "\"\"\""
   ]
  },
  {
   "cell_type": "markdown",
   "metadata": {},
   "source": [
    "### Introduce weights in order to rescale all the MC samples to the same luminosity\n",
    "\n",
    "per definition the weight of each measured event (data) is $1$. Thus, we want to rescale the MC to the same ntegrated Luminosity of the data taking which is $L = 176.773 \\ \\mathrm{pb}^{-1}$\n",
    "\n",
    "The weight for each MC sample is:\n",
    "$$ \n",
    "        \\mathrm{weight}_\\mathrm{MC} = L \\cdot  \\frac{\\sigma_\\mathrm{MC} }{N_\\mathrm{MC}}\n",
    "$$"
   ]
  },
  {
   "cell_type": "code",
   "execution_count": null,
   "metadata": {},
   "outputs": [],
   "source": [
    "crossSectionsMC_noHiggs = [102., 16.5, 0.975, 3.35, 2.9, 15600.]\n",
    "NumberMC_noHiggs = [200000., 294500., 196000., 29500., 81786., 5940000.]\n",
    "\n",
    "crossSectionsMC_HiggsModels = [0.094, 0.0667, 0.0333]\n",
    "NumberMC_HiggsModels = [3972., 3973., 3971.]\n",
    "\n",
    "\n",
    "Lum = 176.773\n",
    "\n",
    "\n",
    "weightsMC_noHiggs     = Lum*np.array(crossSectionsMC_noHiggs) / np.array(NumberMC_noHiggs) \n",
    "weightsMC_HiggsModels = Lum*np.array(crossSectionsMC_HiggsModels) / np.array(NumberMC_HiggsModels) \n",
    "\n",
    "\n",
    "#add column 'weight' to data frame of all bkg MC\n",
    "for i, frame in enumerate(framesMC_NoHiggs):\n",
    "    frame[\"weight\"] = weightsMC_noHiggs[i]\n",
    "\n",
    "#add column 'weight' to data frame of all bkg+sig MC\n",
    "for i, frame in enumerate(framesMC_HiggsModels):\n",
    "    frame[\"weight\"] = weightsMC_HiggsModels[i]\n",
    "\n",
    "#add column 'weight'=1 to data \n",
    "data[\"weight\"] = 1\n",
    "\n",
    "NoHiggs = pd.concat(framesMC_NoHiggs, ignore_index=True) # contains all background data"
   ]
  },
  {
   "cell_type": "markdown",
   "metadata": {},
   "source": [
    "# The actual code"
   ]
  },
  {
   "cell_type": "markdown",
   "metadata": {},
   "source": [
    "## General functions"
   ]
  },
  {
   "cell_type": "markdown",
   "metadata": {},
   "source": [
    "## By-eye selection cut"
   ]
  },
  {
   "cell_type": "markdown",
   "metadata": {},
   "source": [
    "## Composed variable with MVA methods\n",
    "\n",
    "using the coefficients from Higgs@L3_Logistic_Regression.ipynb"
   ]
  },
  {
   "cell_type": "code",
   "execution_count": null,
   "metadata": {},
   "outputs": [],
   "source": [
    "for frame in framesMC_NoHiggs+[NoHiggs]+framesMC_HiggsModels+[data] :\n",
    "    helpers.addComposedVariable(df=frame)\n"
   ]
  },
  {
   "cell_type": "markdown",
   "metadata": {},
   "source": [
    "## Variable dictionary"
   ]
  },
  {
   "cell_type": "code",
   "execution_count": null,
   "metadata": {},
   "outputs": [],
   "source": [
    "mmis =  {'x_name':  r'missing mass $m_\\mathrm{mis}$',\n",
    "        'x_unit': r'$\\mathrm{GeV} / \\mathrm{c}^2$',\n",
    "        'binning': np.linspace(50.,130.,28)#np.linspace(50.,130.,20)\n",
    "        }\n",
    "acop =  {'x_name':  r'$\\pi -$ angles btw jets',\n",
    "        'x_unit':  r'$\\mathrm{rad}$',\n",
    "        'binning': np.linspace(2.9,np.pi,30)\n",
    "        }\n",
    "acthm =  {'x_name':  r'$|\\cos(\\phi_\\mathrm{polar,pmiss})|$',\n",
    "        'x_unit':  r'$1$',\n",
    "        'binning': np.linspace(0,1.,20),\n",
    "        }\n",
    "fmvis = {'x_name': r'visible mass (Z-adjusted) $m_\\mathrm{vis}$',\n",
    "        'x_unit':  r'GeV',\n",
    "        'binning': [np.append(np.linspace(60,100,20)[:-5],100),\\\n",
    "                    np.append(np.linspace(60,100,20)[:-3],100),np.append(np.linspace(60,100,20)[:-3],100)]\n",
    "        }\n",
    "mvis = {'x_name': r'visible mass $m_\\mathrm{vis}$',\n",
    "        'x_unit':  r'GeV',\n",
    "        'binning': np.linspace(70,100,15)#np.linspace(40,100,20)\n",
    "        }\n",
    "# 0.592373282804, 0.336096938776, 0.085706920995\n",
    "xmj1 = {'x_name': r'more energetic 2-jet event mass $m_\\mathrm{jet1}$',\n",
    "        'x_unit':  r'GeV',\n",
    "        'binning': np.linspace(5,20,12)\n",
    "        }\n",
    "xmj2 = {'x_name': r'less energetic 2-jet event mass $m_\\mathrm{jet1}$',\n",
    "        'x_unit':  r'GeV',\n",
    "        'binning': np.linspace(5,20,5)\n",
    "        }\n",
    "ucsdbt0 = {'x_name': r'B tag, based on tracking information only',\n",
    "        'x_unit':  r'$1$',\n",
    "        'binning': np.append(np.linspace(0,8,10),np.array([10,14]))\n",
    "        }\n",
    "#1D CL: 0.213159843436, 0.213346591537, 0.115559705848\n",
    "\n",
    "btag1= {'x_name': r'more energetic B tag',\n",
    "        'x_unit':  r'$1$',\n",
    "        'binning': np.linspace(0,1,30) # 20\n",
    "        }\n",
    "# 0.322630305696, 0.301906905129, 0.190129567623\n",
    "\n",
    "btag2= {'x_name': r'less energetic B tag',\n",
    "        'x_unit':  r'$1$',\n",
    "        'binning': np.linspace(0,1,30)\n",
    "        }\n",
    "# 0.097466680232, 0.0835230801076, 0.0410131411615\n",
    "\n",
    "ievt= {'x_name': r'??',\n",
    "        'x_unit':  r'$??$',\n",
    "        'binning': np.linspace(0,22000,30)\n",
    "        }\n",
    "\n",
    "maxxov= {'x_name': r'maxxov',\n",
    "        'x_unit':  r'$??$',\n",
    "        'binning': np.linspace(0,1,20)\n",
    "        }\n",
    "\n",
    "composed = {'x_name': r'composition of multiple variables',\n",
    "        'x_unit':  r'$1$',\n",
    "        'binning': np.linspace(-14,8,11)\n",
    "        }\n",
    "\n",
    "var_dict = {'mmis': mmis,\n",
    "           'acop': acop,\n",
    "            'acthm': acthm,\n",
    "            'fmvis': fmvis,\n",
    "            'mvis': mvis,\n",
    "            'xmj1': xmj1,\n",
    "            'xmj2': xmj2,\n",
    "            'ucsdbt0': ucsdbt0,\n",
    "            'btag1' : btag1,\n",
    "            'btag2' : btag2,\n",
    "            'ievt': ievt,\n",
    "            'maxxov' : maxxov,\n",
    "            'composed' : composed\n",
    "           }"
   ]
  },
  {
   "cell_type": "markdown",
   "metadata": {},
   "source": [
    "## Chose a data frame"
   ]
  },
  {
   "cell_type": "code",
   "execution_count": null,
   "metadata": {
    "tags": []
   },
   "outputs": [],
   "source": [
    "variable =  'mmis'#'fmvis'\n",
    "\n",
    "\n",
    "x_name = var_dict[variable]['x_name']#r'b tag 1'\n",
    "x_unit = var_dict[variable]['x_unit']#r'1'\n",
    "binning = var_dict[variable]['binning']#np.linspace(0,1,12)\n",
    "\n",
    "df = data[helpers.byEyeSelectionCut(data, 85, out=True)]"
   ]
  },
  {
   "cell_type": "markdown",
   "metadata": {},
   "source": [
    "# Prepare the histograms (Selection Cuts)"
   ]
  },
  {
   "cell_type": "code",
   "execution_count": null,
   "metadata": {
    "tags": []
   },
   "outputs": [],
   "source": [
    "# The cuts depend on the Higgs mass\n",
    "\n",
    "if type(binning) == np.ndarray:\n",
    "    binning = [binning,binning,binning]\n",
    "mH_hypos = [85,90,95] \n",
    "\n",
    "bkgModels = []\n",
    "sigModels = [] \n",
    "data_histModels = [] \n",
    "for i,sigframe in enumerate(framesMC_HiggsModels) :\n",
    "    \n",
    "    bkg = np.zeros(len(binning[i])-1)\n",
    "    for dataframe in framesMC_NoHiggs :\n",
    "        df = dataframe[helpers.byEyeSelectionCut(dataframe, mH_hypos[i])]\n",
    "        #df = dataframe\n",
    "        bkg += np.histogram(df[variable], bins=binning[i], weights=df['weight'])[0]\n",
    "    bkgModels.append(bkg)\n",
    "\n",
    "    df = sigframe[helpers.byEyeSelectionCut(sigframe, mH_hypos[i])]\n",
    "    #df = sigframe\n",
    "    sigModels.append(np.histogram(df[variable], bins=binning[i], weights=df['weight'])[0])\n",
    "\n",
    "    df = data[helpers.byEyeSelectionCut(data, mH_hypos[i])]\n",
    "    #df = data\n",
    "    data_histModels.append(np.histogram(df[variable], bins=binning[i], weights=df['weight'])[0])\n",
    "\n",
    "    print(\"# data events in model %i: %i\" %(mH_hypos[i],sum(data_histModels[i])))\n"
   ]
  },
  {
   "cell_type": "code",
   "execution_count": null,
   "metadata": {},
   "outputs": [],
   "source": [
    "path = 'plots/VariableDists/' \n",
    "\n",
    "save_path = path+variable\n",
    "pl.BkgSigHistos(backgrounds=bkgModels,signals=sigModels,datas=data_histModels,variable_binning=binning,\n",
    "                x_label=[x_name,x_unit],\n",
    "                savepath=None)#save_path)"
   ]
  },
  {
   "cell_type": "markdown",
   "metadata": {},
   "source": [
    "## The Log-likelihood ratio we define to be\n",
    "\n",
    "$$\n",
    "    -2 \\ln (Q(m_H)) = 2 s_{tot} - 2 \\sum_{i=1}^{N_{bins}} N_i \\ln \\left( 1 + \\frac{s_i(m_H)}{b_i} \\right).\n",
    "$$"
   ]
  },
  {
   "cell_type": "code",
   "execution_count": null,
   "metadata": {},
   "outputs": [],
   "source": [
    "Nexp = 10000\n",
    "llr_85 = stat.LogLikRatio(background=bkgModels[0],signal=sigModels[0],N_experiments=Nexp)\n",
    "llr_90 = stat.LogLikRatio(background=bkgModels[1],signal=sigModels[1],N_experiments=Nexp)\n",
    "llr_95 = stat.LogLikRatio(background=bkgModels[2],signal=sigModels[2],N_experiments=Nexp)\n",
    "\n",
    "llr_obs = stat.LogLikRatiosObserved(backgrounds=bkgModels,signals=sigModels,datas=data_histModels)"
   ]
  },
  {
   "cell_type": "code",
   "execution_count": null,
   "metadata": {
    "tags": []
   },
   "outputs": [],
   "source": [
    "path = 'plots/loglikeliratio/'\n",
    "save_path = path+variable\n",
    "\n",
    "CLlist, QuantileList_b, QuantileList_sPlusb = pl.LogLikRatioPlots([llr_85,llr_90,llr_95],Nbins=300,obs=llr_obs,\n",
    "                            savepath=None)#save_path)\n",
    "print(CLlist)"
   ]
  },
  {
   "cell_type": "markdown",
   "metadata": {},
   "source": [
    "$$CL_s = \\frac{CL_{s+b}}{CL_b} = \\frac{CL_{s+b}}{1-(1-CL_b)}$$"
   ]
  },
  {
   "cell_type": "code",
   "execution_count": null,
   "metadata": {
    "tags": []
   },
   "outputs": [],
   "source": [
    "CLs = [entry[1]/(1-entry[0]) for entry in CLlist]\n",
    "print(CLs)\n",
    "\n",
    "print(\"Confidence level CL >= \")\n",
    "for i in range(len(CLs)):\n",
    "    print(\"    \", 1 - CLs[i])\n"
   ]
  },
  {
   "cell_type": "markdown",
   "metadata": {},
   "source": [
    "# 2D "
   ]
  },
  {
   "cell_type": "markdown",
   "metadata": {},
   "source": [
    "## Variable Correlations"
   ]
  },
  {
   "cell_type": "code",
   "execution_count": null,
   "metadata": {
    "tags": []
   },
   "outputs": [],
   "source": [
    "path = 'plots/Corr_' \n",
    "save_path = path\n",
    "# Visualisation\n",
    "\n",
    "pl.TwoDHist(var1='mmis',var2='composed',\n",
    "            framesMC_HiggsModels=framesMC_HiggsModels, # could use helpers.byEyeSelectionCut(frame) for each instead\n",
    "            NoHiggs=NoHiggs, data=data, \n",
    "            framesMC_HiggsModelsNames=framesMC_HiggsModelsNames,\n",
    "            savepath=None,#path, \n",
    "            bins=(50,50))\n",
    "\"\"\"\n",
    "pl.TwoDHist(var1='btag1',var2='btag2',\n",
    "            framesMC_HiggsModels=[df[helpers.byEyeSelectionCut(df)] for df in framesMC_HiggsModels], \n",
    "            NoHiggs=NoHiggs[helpers.byEyeSelectionCut(NoHiggs)], data=data[helpers.byEyeSelectionCut(data)], \n",
    "            framesMC_HiggsModelsNames=framesMC_HiggsModelsNames,\n",
    "            savepath=path+'afterCut', bins=(50,50))\n",
    "\n",
    "pl.TwoDHistFull(var1='mmis',var2='composed',\n",
    "            framesMC_HiggsModels=[sig_85,sig_90,sig_95],\n",
    "            frames_NoHiggs=[bkg_85,bkg_90,bkg_95], frames_data=[data_85,data_90,data_95], \n",
    "            framesMC_HiggsModelsNames=framesMC_HiggsModelsNames,\n",
    "            savepath=path, bins=(7,7))\n",
    "\"\"\"\n"
   ]
  },
  {
   "cell_type": "markdown",
   "metadata": {},
   "source": [
    "## By-eye selection cut"
   ]
  },
  {
   "cell_type": "code",
   "execution_count": null,
   "metadata": {
    "tags": []
   },
   "outputs": [],
   "source": [
    "var1 = 'mmis'\n",
    "var2 = 'composed'\n",
    "\n",
    "if type(binning) == np.ndarray:\n",
    "    binning = [binning,binning,binning]\n",
    "mH_hypos = [85,90,95] \n",
    "\n",
    "bkgModels = []\n",
    "sigModels = [] \n",
    "data_histModels = [] \n",
    "\n",
    "binning1 = var_dict[var1]['binning']\n",
    "binning2 = var_dict[var2]['binning']\n",
    "binning = (6,6)#(10,10)#binning=[binnning1,binning2]))\n",
    "\n",
    "# alternatively for by-eye\n",
    "for i,sigframe in enumerate(framesMC_HiggsModels) :\n",
    "    #for var in [var1,var2]:\n",
    "    if var1 == 'composed':\n",
    "            var1 += '_' +str(mH_hypos[i])\n",
    "    if var2 == 'composed':\n",
    "            var2 += '_' +str(mH_hypos[i])\n",
    "    try:bkg = np.zeros(binning)\n",
    "    except: bkg = np.zeros((len(binning1)-1, len(binning2)-1))\n",
    "    for dataframe in framesMC_NoHiggs :            \n",
    "        df = dataframe[helpers.byEyeSelectionCut(dataframe, mH_hypos[i])]\n",
    "        bkg += np.histogram2d(df[var1], df[var2], bins=binning, weights=df[\"weight\"])[0]\n",
    "        bkgModels.append(bkg)\n",
    "    \n",
    "    df = sigframe[helpers.byEyeSelectionCut(sigframe, mH_hypos[i])]\n",
    "    sigModels.append(np.histogram2d(\n",
    "        df[var1], df[var2], bins=binning, weights=df[\"weight\"])[0])\n",
    "    \n",
    "    df = data[helpers.byEyeSelectionCut(data, mH_hypos[i])]\n",
    "    data_histModels.append(np.histogram2d(\n",
    "        df[var1], df[var2], bins=binning, weights=df[\"weight\"])[0])\n",
    "\n",
    "    print(\"# data events in model %i: %i\" %(mH_hypos[i],sum(sum(data_histModels[i]))))\n"
   ]
  },
  {
   "cell_type": "markdown",
   "metadata": {},
   "source": [
    "## Boosted decision trees selection cut\n"
   ]
  },
  {
   "cell_type": "code",
   "execution_count": null,
   "metadata": {},
   "outputs": [],
   "source": [
    "data_85 = pd.read_csv('data_85')\n",
    "data_90 = pd.read_csv('data_90')# (2)')\n",
    "data_95 = pd.read_csv('data_95')\n",
    "\n",
    "bkg_85 = pd.read_csv('bkg_85')\n",
    "bkg_90 = pd.read_csv('bkg_90')# (2)')\n",
    "bkg_95 = pd.read_csv('bkg_95')\n",
    "\n",
    "sig_85 = pd.read_csv('sig_85')\n",
    "sig_90 = pd.read_csv('sig_90')# (2)')\n",
    "sig_95 = pd.read_csv('sig_95')\n",
    "\n",
    "for frame in [data_85,data_90,data_95,bkg_85,bkg_90,bkg_95,sig_85,sig_90,sig_95]:\n",
    "    frame = add_composed_var(frame)"
   ]
  },
  {
   "cell_type": "markdown",
   "metadata": {},
   "source": [
    "### search for good cuts in composed variable"
   ]
  },
  {
   "cell_type": "code",
   "execution_count": null,
   "metadata": {},
   "outputs": [],
   "source": [
    "bims=100\n",
    "\n",
    "c,b,_ =plt.hist(sig_85['composed_85'], alpha=.6, density=True, bins=bims,label='sig_85', color='red')\n",
    "plt.hist(bkg_85['composed_85'], bins=b, alpha=.6, density=True, label='bkg_85',color='blue')\n",
    "for p in np.array([-5.,-1.4,0.8,5.]):\n",
    "    plt.axvline(p, color='black')\n",
    "plt.legend()\n",
    "plt.xlabel('composed MVA variable')\n",
    "plt.ylabel('p.d.f.')\n",
    "plt.title('p.d.f. of the MVA variable')\n",
    "plt.savefig(\"plots/CutsOnMVA\")\n",
    "#plt.hist(data_85['composed_85'], bins=b, alpha=.3, density=True)\n",
    "plt.show()\n",
    "\n",
    "c,b,_ =plt.hist(sig_90['composed_90'], alpha=.6, density=True, bins=bims, label='sig_90')\n",
    "plt.hist(bkg_90['composed_90'], bins=b, alpha=.6, density=True, label='bkg_90')\n",
    "for p in np.array([-5.,-1.8,-0.8,5.]):\n",
    "    plt.axvline(p)\n",
    "plt.xlabel('composed MVA variable')\n",
    "plt.ylabel('p.d.f.')\n",
    "plt.title('p.d.f. of the MVA variable')\n",
    "#plt.hist(data_90['composed_90'], bins=b, alpha=.3, density=True)\n",
    "\n",
    "plt.legend()\n",
    "plt.show()\n",
    "\n",
    "c,b,_ =plt.hist(sig_95['composed_95'], alpha=.6, density=True, bins=bims, label='sig_95')\n",
    "plt.hist(bkg_95['composed_95'], bins=b, alpha=.6, density=True, label='bkg_95')\n",
    "for p in np.array([-5.,-1.8,-1,5.]):\n",
    "    plt.axvline(p)\n",
    "plt.xlabel('composed MVA variable')\n",
    "plt.ylabel('p.d.f.')\n",
    "plt.title('p.d.f. of the MVA variable')\n",
    "#plt.hist(data_95['composed_95'], bins=b, alpha=.3, density=True)\n",
    "\n",
    "plt.legend()\n",
    "plt.show()\n",
    "\n",
    "\n"
   ]
  },
  {
   "cell_type": "code",
   "execution_count": null,
   "metadata": {
    "tags": []
   },
   "outputs": [],
   "source": [
    "var1 = 'mmis'\n",
    "var2 = 'composed'\n",
    "\n",
    "if type(binning) == np.ndarray:\n",
    "    binning = [binning,binning,binning]\n",
    "mH_hypos = [85,90,95] \n",
    "\n",
    "bkgModels = []\n",
    "sigModels = [] \n",
    "data_histModels = [] \n",
    "\n",
    "binning1 = var_dict[var1]['binning']\n",
    "binning2 = var_dict[var2]['binning']\n",
    "binning = [(7,6),(9,9),(7,4)] \n",
    "#(10,10)#binning=[binnning1,binning2]))#\n",
    "#binning = [(14,3),(18,2),(14,1)]\n",
    "binning = [(np.linspace(50,130,28),np.array([-5.,-1.4,0.8,5.])) , (np.linspace(50,130,28),np.array([-5.,-1.8,-0.8,5.])), (np.linspace(50,130,28),np.array([-5.,-1.8,-1.,5.]))]\n",
    "for i,sigframe in enumerate([sig_85,sig_90,sig_95]) :\n",
    "    #for var in [var1,var2]:\n",
    "    if var1 == 'composed':\n",
    "            var1 += '_' +str(mH_hypos[i])\n",
    "    if var2 == 'composed':\n",
    "            var2 += '_' +str(mH_hypos[i])\n",
    "\n",
    "    df=[bkg_85,bkg_90,bkg_95][i]\n",
    "    bkgModels.append(np.histogram2d(df[var1], df[var2], bins=binning[i], weights=df[\"weight\"])[0])\n",
    "    \n",
    "    df=[data_85,data_90,data_95][i]\n",
    "    data_histModels.append(np.histogram2d(df[var1], df[var2], bins=binning[i], weights=df[\"weight\"])[0])\n",
    "\n",
    "    df = sigframe\n",
    "    sigModels.append(np.histogram2d(df[var1], df[var2], bins=binning[i], weights=df[\"weight\"])[0]) \n",
    "\n",
    "    print(\"# data events in model %i: %i\" %(mH_hypos[i],sum(sum(data_histModels[i]))))"
   ]
  },
  {
   "cell_type": "markdown",
   "metadata": {},
   "source": [
    "### Throw MC toys & calculate log likelihood ratios"
   ]
  },
  {
   "cell_type": "code",
   "execution_count": null,
   "metadata": {
    "tags": []
   },
   "outputs": [],
   "source": [
    "Nexp = 10000\n",
    "llr_85 = stat.LogLikRatio_TwoD(background=bkgModels[0],signal=sigModels[0],N_experiments=Nexp)\n",
    "print('85 done')\n",
    "llr_90 = stat.LogLikRatio_TwoD(background=bkgModels[1],signal=sigModels[1],N_experiments=Nexp)\n",
    "print('90 done')\n",
    "llr_95 = stat.LogLikRatio_TwoD(background=bkgModels[2],signal=sigModels[2],N_experiments=Nexp)\n",
    "print('95 done')\n",
    "\n",
    "llr_obs = stat.LogLikRatioObserved_TwoD(bkgModels=bkgModels,signals=sigModels,data_histModels=data_histModels, emptyCalc=True)\n",
    "\n",
    "print(llr_obs)"
   ]
  },
  {
   "cell_type": "code",
   "execution_count": null,
   "metadata": {
    "tags": []
   },
   "outputs": [],
   "source": [
    "CLlist, Quantiles_b, Quantiles_sPlusb  = pl.LogLikRatioPlots([llr_85,llr_90,llr_95],Nbins=300,obs=llr_obs,savepath=save_path)\n",
    "print(CLlist)\n",
    "print(Quantiles_b)\n",
    "print(Quantiles_sPlusb)"
   ]
  },
  {
   "cell_type": "markdown",
   "metadata": {},
   "source": [
    "## Confidence levels\n"
   ]
  },
  {
   "cell_type": "code",
   "execution_count": null,
   "metadata": {
    "tags": []
   },
   "outputs": [],
   "source": [
    "CLs = [entry[1]/(1-entry[0]) for entry in CLlist]\n",
    "print(CLs)\n",
    "\n",
    "#print(\"binning = \", binning)\n",
    "print(\"Confidence level CL >= \")\n",
    "for i in range(len(CLs)):\n",
    "    print(\"    \", 1 - CLs[i])"
   ]
  },
  {
   "cell_type": "markdown",
   "metadata": {},
   "source": [
    "## Print data to use it in other code"
   ]
  },
  {
   "cell_type": "code",
   "execution_count": null,
   "metadata": {
    "tags": []
   },
   "outputs": [],
   "source": [
    "print(CLlist)\n",
    "print(Quantiles_b)\n",
    "print(Quantiles_sPlusb)\n"
   ]
  },
  {
   "cell_type": "markdown",
   "metadata": {},
   "source": [
    "# Results:\n",
    "\n",
    "## winner:\n",
    "\n",
    "binning = [(np.linspace(50,130,28),np.array([-5.,-1.4,0.8,5.])) , (np.linspace(50,130,28),np.array([-5.,-1.8,-0.8,5.])), (np.linspace(50,130,28),np.array([-5.,-1.8,-1.,5.]))]\n",
    "\n",
    "\n",
    "    Confidence level CL >= \n",
    "     0.961754104926\n",
    "     0.63456405694\n",
    "     0.515910192215\n",
    "     \n",
    "\n",
    "## out of:\n",
    "    \n",
    "binning = [(np.linspace(50,130,14),np.array([-5.,-.1,5.])),(np.linspace(50,130,28),np.array([-5.,-1.,5.])),(np.linspace(50,130,14),np.array([-5.,-1.,5.]))] \n",
    "     \n",
    "     Confidence level CL >= \n",
    "     0.627515400411\n",
    "     0.498518831993\n",
    "     0.432560077789\n",
    "     \n",
    "binning = [(np.linspace(50,130,28),np.array([-5.,-.7,1.,5.])),(np.linspace(50,130,28),np.array([-5.,-.3,5.])),(np.linspace(50,130,28),np.array([-5.,-1.8,-1.,5.]))] \n",
    "\n",
    "    Confidence level CL >= \n",
    "     0.867198335645\n",
    "     0.311822510384\n",
    "     0.52351902392\n",
    "     \n",
    "binning = [(np.linspace(50,130,14),np.array([-5.,-1.,5.])),(np.linspace(50,130,14),np.array([-5.,-1,5.])),(np.linspace(50,130,14),np.array([-5.,-1.,5.]))] \n",
    "\n",
    "    Confidence level CL >= \n",
    "     0.784446138765\n",
    "     0.466722830666\n",
    "     0.437692955375\n",
    "\n",
    "\n",
    "binning = [(np.linspace(50,130,28),np.array([-5.,-1.,5.])),(np.linspace(50,130,28),np.array([-5.,-1,5.])),(np.linspace(50,130,28),np.array([-5.,-1.,5.]))] \n",
    "\n",
    "    Confidence level CL >= \n",
    "     0.791839859987\n",
    "     0.495279516283\n",
    "     0.475018532246\n",
    "     \n",
    "binning = [(np.linspace(50,130,14),np.array([-5.,-2,-1,0.1,5.])),(np.linspace(50,130,28),np.array([-5.,-1.8,-0.8,.7,5.])),(np.linspace(50,130,14),np.array([-5.,-1.6,-0.8,0,5.]))] \n",
    "\n",
    "    Confidence level CL >= \n",
    "     0.635538790906\n",
    "     0.509347258486\n",
    "     0.396903225806\n",
    "\n",
    "binning = [(np.linspace(50,130,14),np.linspace(-4,4,7)),(np.linspace(50,130,28),np.array([-5.,-1.8,-0.4,5.])),(np.linspace(50,130,14),np.array([-5.,-1.6,-0.8,0,1.8,5.]))] \n",
    "\n",
    "    Confidence level CL >= \n",
    "     0.848068181818\n",
    "     0.476338729763\n",
    "     0.400889121339\n",
    "     \n",
    "binning = [(np.linspace(50,130,28),np.linspace(-4,4,7)),(np.linspace(50,130,14),np.array([-5.,-1.8,-0.8,5.])),(np.linspace(50,130,28),np.array([-5.,-1.6,-0.8,0,1.8,5.]))] \n",
    "     \n",
    "    Confidence level CL >= \n",
    "     0.87096403539\n",
    "     0.610092252973\n",
    "     0.408384897083\n",
    "     \n",
    "binning = [(np.linspace(50,130,28),np.linspace(-4,4,9)),(np.linspace(50,130,14),np.array([-5.,-1.6,-0.6,5.])),(np.linspace(50,130,28),np.array([-5.,-1.6,-1.,5.]))] \n",
    "\n",
    "    Confidence level CL >= \n",
    "     0.723699182787\n",
    "     0.500732984293\n",
    "     0.523329129887\n",
    "     \n",
    "binning = [(np.linspace(50,130,28),np.linspace(-4,4,4)),(np.linspace(50,130,14),np.array([-5.,-2,-1,5.])),(np.linspace(50,130,28),np.array([-5.,-1.4,-1.,5.]))] \n",
    "\n",
    "    Confidence level CL >= \n",
    "     0.95799887997\n",
    "     0.486776946581\n",
    "     0.498662470496\n",
    "    \n",
    "     \n",
    "90 .1: 0.369854597583 (linspace 14)\n",
    "90 -2: 0.551464897734 (linspace 28)\n",
    "90 -1.8 & -0.8: 0.63482831898 (linspace 28)"
   ]
  },
  {
   "cell_type": "markdown",
   "metadata": {},
   "source": [
    "\n",
    "binning = [(7,7),(8,8),(7,4)]\n",
    "\n",
    "    Confidence level CL >= \n",
    "     0.952580028667\n",
    "     0.026902690269\n",
    "     0.3249055812\n",
    "     \n",
    "binning = [(8,6),(8,6),(7,3)]     \n",
    "\n",
    "    Confidence level CL >= \n",
    "     0.838144867118\n",
    "     0.016\n",
    "     0.410908646203\n",
    "\n",
    "binning =  [(8, 7), (2, 2), (6, 3)]\n",
    "\n",
    "    Confidence level CL >= \n",
    "     0.938706400271\n",
    "     0.162020730603\n",
    "     0.127041742287\n",
    "\n",
    "binning =  [(7, 8), (5, 4), (5, 3)]\n",
    "\n",
    "    Confidence level CL >= \n",
    "     0.929531705131\n",
    "     0.030703070307\n",
    "     0.268274383708\n",
    "     \n",
    "binning =  [(7, 6), (9, 9), (7, 4)]\n",
    "\n",
    "    Confidence level CL >= \n",
    "     0.844532554257\n",
    "     0.03971985993\n",
    "     0.324955492722\n",
    "     \n",
    "binning =  [(28,3)]\n",
    "\n",
    "    Confidence level CL >= \n",
    "     0.550010022049\n",
    "     0.14181198637\n",
    "     0.0339\n",
    "     \n",
    "binning = [(15,4),(15,4),(15,4)]\n",
    "\n",
    "    Confidence level CL >= \n",
    "     0.1064\n",
    "     0.046704670467\n",
    "     0.749083063646\n",
    "     \n",
    "binning =  [(28, 1), (28, 1), (28, 1)]\n",
    "\n",
    "    Confidence level CL >= \n",
    "     0.862589928058\n",
    "     0.432515663162\n",
    "     0.443015521064\n",
    "     \n",
    "binning =  [(28, 2), (28, 2), (28, 2)]\n",
    "\n",
    "    Confidence level CL >= \n",
    "     0.95981765997\n",
    "     0.183398653402\n",
    "     0.436894285396\n",
    "     \n",
    "     \n",
    "binning =  [(28, 3), (28, 3), (28, 3)]\n",
    "\n",
    "    Confidence level CL >= \n",
    "     0.55825145378\n",
    "     0.139593145606\n",
    "     0.0312062412483\n",
    "     \n",
    "binning =  [(14, 2), (14, 2), (14, 2)]\n",
    "\n",
    "    Confidence level CL >= \n",
    "     0.963696369637\n",
    "     0.109874686717\n",
    "     0.554731224782\n",
    "\n",
    "linspace 28*2\n",
    "    0.940685820204\n",
    "     0.281580016247\n",
    "     0.720828215476\n",
    "     \n"
   ]
  }
 ],
 "metadata": {
  "kernelspec": {
   "display_name": "Python 3.8.5 64-bit ('Higgs-L3': conda)",
   "language": "python",
   "name": "python38564bithiggsl3conda141e2cf07ec6480bb46052f1e5673410"
  },
  "language_info": {
   "codemirror_mode": {
    "name": "ipython",
    "version": 2
   },
   "file_extension": ".py",
   "mimetype": "text/x-python",
   "name": "python",
   "nbconvert_exporter": "python",
   "pygments_lexer": "ipython2",
   "version": "3.8.5-final"
  }
 },
 "nbformat": 4,
 "nbformat_minor": 2
}
