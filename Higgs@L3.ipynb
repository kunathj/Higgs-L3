{
 "cells": [
  {
   "cell_type": "markdown",
   "metadata": {},
   "source": [
    "# Higgs@L3\n",
    "\n",
    "Here we go back to using a one-dimensional distribution (in `mmis`).\n",
    "BDTs are used for the preselection.\n",
    "\n",
    "## Prerequisites\n",
    "\n",
    "The BDT responsed for each of the mass hypothesis is needed to run this notebook.\n",
    "\n",
    "## Some information on the MC simulation and detector data sets\n",
    "\n",
    "## (1D) Likelihood analysis\n",
    "\n",
    "## Quantile plots"
   ]
  },
  {
   "cell_type": "code",
   "execution_count": null,
   "metadata": {},
   "outputs": [],
   "source": [
    "import itertools\n",
    "import numpy as np\n",
    "import matplotlib.pyplot as plt\n",
    "import pandas as pd\n",
    "import pickle\n",
    "\n",
    "import helpers\n",
    "import plotting as pl\n",
    "import stats as stat\n",
    "import variables"
   ]
  },
  {
   "cell_type": "markdown",
   "metadata": {},
   "source": [
    "## Some information on the MC simulation and detector data sets"
   ]
  },
  {
   "cell_type": "code",
   "execution_count": null,
   "metadata": {},
   "outputs": [],
   "source": [
    "from load_data import data, mc_higgs_models, mc_no_higgs_frames"
   ]
  },
  {
   "cell_type": "markdown",
   "metadata": {},
   "source": [
    "\\begin{array}{|l||c|c|c|c|}\n",
    "\\hline\n",
    "\\textrm{sample name} & \\textrm{type of data} & \\textrm{real data} & \\textrm{No. of events} & \\sigma   [\\textrm{pb}] \\\\ \\hline\n",
    "\\textrm{higgs_qq} & q \\bar{q} & - & 200000 & 102 \\\\ \\hline\n",
    "\\textrm{higgs_ww} & W^+ W^- & - & 294500 & 16.5 \\\\ \\hline\n",
    "\\textrm{higgs_zz} & ZZ & - & 196000 & 0.975 \\\\ \\hline\n",
    "\\textrm{higgs_zee} & Z e^+ e^- & - & 29500 & 3.35 \\\\ \\hline\n",
    "\\textrm{higgs_wen} & q \\bar{q} e \\nu_e & - & 81786 & 2.90 \\\\ \\hline\n",
    "\\textrm{higgs_eeqq} & \\textrm{two photon coll} & - & 5940000 & 15600 \\\\ \\hline\n",
    "\\textrm{higgs_data} & \\textrm{data} & x & - & - \\\\ \\hline\n",
    "\\textrm{higgs_higgs_85} & \\textrm{Higgs} (m_{H} = 85 \\ \\textrm{GeV}) & - & 3972 & 0.0940\\\\ \\hline\n",
    "\\textrm{higgs_higgs_90} & \\textrm{Higgs} (m_{H} = 90 \\ \\textrm{GeV}) & - & 3973 & 0.0667\\\\ \\hline\n",
    "\\textrm{higgs_higgs_95} & \\textrm{Higgs} (m_{H} = 95 \\ \\textrm{GeV}) & - & 3971 & 0.0333\\\\ \\hline\t\n",
    "\\end{array}"
   ]
  },
  {
   "cell_type": "markdown",
   "metadata": {},
   "source": [
    "### Introduce weights in order to rescale all the MC samples to the same luminosity\n",
    "\n",
    "per definition the weight of each measured event (data) is $1$. \n",
    "Thus, we want to rescale the MC to the same integrated Luminosity of the data taking which is $L = 176.773 \\ \\mathrm{pb}^{-1}$.\n",
    "\n",
    "The weight for each MC sample is:\n",
    "$$ \n",
    "        \\mathrm{weight}_\\mathrm{MC} = L \\cdot  \\frac{\\sigma_\\mathrm{MC} }{N_\\mathrm{MC}}\n",
    "$$"
   ]
  },
  {
   "cell_type": "code",
   "execution_count": null,
   "metadata": {},
   "outputs": [],
   "source": [
    "bdt_collection = {} \n",
    "for higgs_mass in mc_higgs_models:\n",
    "    with open(f\"tmp/BDT_{higgs_mass}.pkl\", \"rb\") as fid:\n",
    "        bdt_collection[higgs_mass] = pickle.load(fid)\n",
    "    \n",
    "for frame in itertools.chain(mc_higgs_models.values(), \n",
    "                             mc_no_higgs_frames.values(), \n",
    "                             [data]):\n",
    "    helpers.addLogisticRegressionResults(df=frame)\n",
    "    for higgs_mass in mc_higgs_models:\n",
    "        bdt_response = bdt_collection[higgs_mass].decision_function\n",
    "        frame[f\"BDT_selCut{higgs_mass[-2:]}\"] = bdt_response(frame[helpers.kinematical_vars])\n"
   ]
  },
  {
   "cell_type": "markdown",
   "metadata": {},
   "source": [
    "### Preselection: Cut on the BDT value"
   ]
  },
  {
   "cell_type": "code",
   "execution_count": null,
   "metadata": {},
   "outputs": [],
   "source": [
    "vars = helpers.kinematical_vars + [\"weight\"]\n",
    "sig, bkg, dat = {}, {}, {}\n",
    "for higgs_mass in mc_higgs_models:\n",
    "    s = mc_higgs_models[higgs_mass]\n",
    "    b = pd.concat(mc_no_higgs_frames, ignore_index=True)\n",
    "    sig[higgs_mass] = s[s[f\"BDT_selCut{higgs_mass[-2:]}\"] > helpers.bdt_cut[higgs_mass]][vars]\n",
    "    bkg[higgs_mass] = b[b[f\"BDT_selCut{higgs_mass[-2:]}\"] > helpers.bdt_cut[higgs_mass]][vars]\n",
    "\n",
    "    dat[higgs_mass] = data[data[f\"BDT_selCut{higgs_mass[-2:]}\"] > cut[higgs_mass]][vars]\n",
    "\n",
    "    sig[higgs_mass].to_csv(f\"tmp/sig_{higgs_mass[-2:]}.csv\")\n",
    "    bkg[higgs_mass].to_csv(f\"tmp/bkg_{higgs_mass[-2:]}.csv\")\n",
    "    dat[higgs_mass].to_csv(f\"tmp/data_{higgs_mass[-2:]}.csv\")"
   ]
  },
  {
   "cell_type": "markdown",
   "metadata": {},
   "source": [
    "### Purity in range $90 \\pm 5$ GeV"
   ]
  },
  {
   "cell_type": "code",
   "execution_count": null,
   "metadata": {
    "tags": []
   },
   "outputs": [],
   "source": [
    "for higgs_mass in mc_higgs_models:\n",
    "    s = sig[higgs_mass]\n",
    "    b = bkg[higgs_mass]\n",
    "    sig_in_interval = s[(s[\"mmis\"] < 95) & (s[\"mmis\"] > 85)][\"weight\"].sum()\n",
    "    bkg_in_interval = b[(b[\"mmis\"] < 95) & (b[\"mmis\"] > 85)][\"weight\"].sum()\n",
    "\n",
    "    purity = sig_in_interval / bkg_in_interval\n",
    "    print(f\"{higgs_mass}: Purity = {100*purity:.2f} % with {len(dat[higgs_mass]):2} observed events.\")"
   ]
  },
  {
   "cell_type": "markdown",
   "metadata": {},
   "source": [
    "### Distribution in variable of interest"
   ]
  },
  {
   "cell_type": "code",
   "execution_count": null,
   "metadata": {},
   "outputs": [],
   "source": [
    "variable = \"mmis\"\n",
    "\n",
    "binning = variables.info[variable][\"binning\"]\n",
    "bkg_histos = {}\n",
    "sig_histos = {}\n",
    "data_histos = {}\n",
    "\n",
    "for higgs_mass in sig:\n",
    "    sig_histos[higgs_mass] = np.histogram(\n",
    "           sig[higgs_mass][variable], bins=binning, weights=sig[higgs_mass][\"weight\"])[0]\n",
    "    bkg_histos[higgs_mass] = np.histogram(\n",
    "           bkg[higgs_mass][variable], bins=binning, weights=bkg[higgs_mass][\"weight\"])[0]\n",
    "    data_histos[higgs_mass] = np.histogram(\n",
    "           dat[higgs_mass][variable], bins=binning, weights=dat[higgs_mass][\"weight\"])[0]  "
   ]
  },
  {
   "cell_type": "code",
   "execution_count": null,
   "metadata": {},
   "outputs": [],
   "source": [
    "pl.BkgSigHistos(backgrounds=bkg_histos,\n",
    "                signals=sig_histos,\n",
    "                datas=data_histos,\n",
    "                var=variable, \n",
    "                binning=binning,\n",
    "                # asymm_errors=True,\n",
    "                save_as=f\"plots/VariableDists/{variable}.png\")"
   ]
  },
  {
   "cell_type": "markdown",
   "metadata": {},
   "source": [
    "## (1D) Likelihood analysis\n",
    "\n",
    "The Log-likelihood ratio is defined as\n",
    "\n",
    "$$\n",
    "    -2 \\log (Q(m_H)) = 2 s_{tot} - 2 \\sum_{i=1}^{N_{bins}} N_i \\log \\left( 1 + \\frac{s_i(m_H)}{b_i} \\right)\n",
    "$$."
   ]
  },
  {
   "cell_type": "code",
   "execution_count": null,
   "metadata": {},
   "outputs": [],
   "source": [
    "n_exp = 10000\n",
    "llrs = []\n",
    "llrs_obs = []\n",
    "for higgs_mass in bkg_histos:\n",
    "    llrs.append(stat.LogLikRatio(\n",
    "        background=bkg_histos[higgs_mass],\n",
    "        signal=sig_histos[higgs_mass],\n",
    "        n_experiments=n_exp\n",
    "    ))\n",
    "    llrs_obs.append(stat.LogLikRatioObserved(\n",
    "        background=bkg_histos[higgs_mass], \n",
    "        signal=sig_histos[higgs_mass],\n",
    "        data=data_histos[higgs_mass],\n",
    "        ))"
   ]
  },
  {
   "cell_type": "code",
   "execution_count": null,
   "metadata": {
    "tags": []
   },
   "outputs": [],
   "source": [
    "CLlist, Quantiles_b, Quantiles_sPlusb = pl.LogLikRatioPlots(\n",
    "    llrs,\n",
    "    obs=llrs_obs, Nbins=300,\n",
    "    savepath=f\"plots/loglikeliratio/{variable}.png\",\n",
    ")                                                           \n",
    "print(CLlist)"
   ]
  },
  {
   "cell_type": "markdown",
   "metadata": {},
   "source": [
    "# Quantile plot"
   ]
  },
  {
   "cell_type": "markdown",
   "metadata": {},
   "source": [
    "$$CL_s = \\frac{CL_{s+b}}{CL_b} = \\frac{CL_{s+b}}{1-(1-CL_b)}$$"
   ]
  },
  {
   "cell_type": "code",
   "execution_count": null,
   "metadata": {
    "tags": []
   },
   "outputs": [],
   "source": [
    "CLs = [entry[1]/(1-entry[0]) for entry in CLlist]\n",
    "print(CLs)\n",
    "\n",
    "print(\"Confidence level CL >= \")\n",
    "for i in range(len(CLs)):\n",
    "    print(\"    \", 1 - CLs[i])"
   ]
  },
  {
   "cell_type": "code",
   "execution_count": null,
   "metadata": {
    "tags": []
   },
   "outputs": [],
   "source": [
    "print(Quantiles_b[0])\n",
    "print(Quantiles_b[1])\n",
    "print(Quantiles_b[2])\n",
    "\n",
    "# print(Quantiles_sPlusb)"
   ]
  },
  {
   "cell_type": "code",
   "execution_count": null,
   "metadata": {
    "tags": []
   },
   "outputs": [],
   "source": [
    "print(Quantiles_b[:][0][0])"
   ]
  },
  {
   "cell_type": "code",
   "execution_count": null,
   "metadata": {},
   "outputs": [],
   "source": [
    "MHiggs = np.array([85.,90.,95])"
   ]
  },
  {
   "cell_type": "code",
   "execution_count": null,
   "metadata": {},
   "outputs": [],
   "source": [
    "Quantiles_b = [[4.17450166378066, [0.36682136305160284, 7.6648752727822966], [-3.9168189752685834, 10.837942190056509]], [2.5979840592736423, [-0.46927828916865977, 5.3244394801112449], [-3.9909498744172254, 7.7100879733441445]], [0.70195337492436138, [-0.90642270726311835, 2.0884844802583942], [-2.7921050105174032, 3.2531706087389818]]]\n",
    "Quantiles_sPlusb = [[-5.3446990880419776, [-10.738912847408141, -0.42644536626695029], [-16.609086644365437, 4.015848317916948]], [-3.0821314008046912, [-6.9446099136579615, 0.5531424936454421], [-11.261497663317497, 3.8476094604908759]], [-0.68457773040967318, [-2.6257212778773198, 0.9792595959911683], [-4.8441710464117724, 2.4212519455385628]]]"
   ]
  },
  {
   "cell_type": "code",
   "execution_count": null,
   "metadata": {},
   "outputs": [],
   "source": [
    "plt.figure(figsize=(9,7))\n",
    "\n",
    "\n",
    "\n",
    "y_b = np.array([Quantiles_b[0][0],Quantiles_b[1][0],Quantiles_b[2][0]])\n",
    "y_b_oneS_lower = np.array([Quantiles_b[0][1][0],Quantiles_b[1][1][0],Quantiles_b[2][1][0]])\n",
    "y_b_oneS_upper = np.array([Quantiles_b[0][1][1],Quantiles_b[1][1][1],Quantiles_b[2][1][1]])\n",
    "\n",
    "\n",
    "plt.plot(MHiggs,y_b,'b--',label='expected bkg',linewidth=3)\n",
    "\n",
    "\n",
    "plt.fill_between(MHiggs, y_b_oneS_lower, y_b_oneS_upper,facecolor='lawngreen',alpha=0.99)\n",
    "\n",
    "\n",
    "\n",
    "\n",
    "#plt.plot(MHiggs,[Quantiles_b[0][1][0],Quantiles_b[1][1][0],Quantiles_b[2][1][0]],'y-',color='lawngreen')\n",
    "#plt.plot(MHiggs,[Quantiles_b[0][1][1],Quantiles_b[1][1][1],Quantiles_b[2][1][1]],'y-',color='lawngreen')\n",
    "\n",
    "\n",
    "y_b_twoS_lower = np.array([Quantiles_b[0][2][0],Quantiles_b[1][2][0],Quantiles_b[2][2][0]])\n",
    "y_b_twoS_upper = np.array([Quantiles_b[0][2][1],Quantiles_b[1][2][1],Quantiles_b[2][2][1]])\n",
    "\n",
    "plt.fill_between(MHiggs, y_b_twoS_lower, y_b_oneS_lower,facecolor='yellow',alpha=0.9)\n",
    "plt.fill_between(MHiggs, y_b_oneS_upper, y_b_twoS_upper,facecolor='yellow',alpha=0.9)\n",
    "\n",
    "\n",
    "#plt.plot(MHiggs,[Quantiles_b[0][2][0],Quantiles_b[1][2][0],Quantiles_b[2][2][0]],'g-',color='yellow')\n",
    "#plt.plot(MHiggs,[Quantiles_b[0][2][1],Quantiles_b[1][2][1],Quantiles_b[2][2][1]],'g-',color='yellow')\n",
    "\n",
    "\n",
    "\n",
    "\n",
    "\n",
    "plt.plot(MHiggs,[Quantiles_sPlusb[0][0],Quantiles_sPlusb[1][0],Quantiles_sPlusb[2][0]],'-.',label='expected sig+bkg',\n",
    "        color='brown',linewidth=3)\n",
    "\n",
    "\n",
    "plt.plot(MHiggs,llrs_obs,'r-',label='observed',linewidth=3)\n",
    "\n",
    "plt.hlines(0,85,95,linewidth=1)\n",
    "\n",
    "plt.xlim(85.,95.)\n",
    "plt.ylim(-6,13)\n",
    "plt.xlabel(r'$m_{H}$ [GeV]',fontsize=14)\n",
    "plt.ylabel(r'$-2 \\ln (Q)$',fontsize=14)\n",
    "plt.legend(fontsize=14)\n",
    "plt.savefig(\"plots/quantile_plot_2D.png\")"
   ]
  },
  {
   "cell_type": "markdown",
   "metadata": {},
   "source": [
    "### 1 - $CL_b$ plots"
   ]
  },
  {
   "cell_type": "code",
   "execution_count": null,
   "metadata": {},
   "outputs": [],
   "source": [
    "n_pseudo_experiments = 10000\n",
    "llr_pseudo_observed = {higgs_mass: np.zeros(n_pseudo_experiments) for higgs_mass in bkg_histos}\n",
    "\n",
    "for i in range(n_pseudo_experiments):\n",
    "    for higgs_mass in bkg_histos:\n",
    "        n_s_plus_b_pseudo = np.random.poisson(lam=sig_histos[higgs_mass]+bkg_histos[higgs_mass])   \n",
    "        llr_pseudo_observed[higgs_mass][i] = stat.LogLikRatioObserved(background=bkg_histos[higgs_mass],\n",
    "                                                    signal=sig_histos[higgs_mass],\n",
    "                                                    data=n_s_plus_b_pseudo)"
   ]
  },
  {
   "cell_type": "code",
   "execution_count": null,
   "metadata": {},
   "outputs": [],
   "source": [
    "CL_one_minus_CLb_s_plus_b = {}\n",
    "for i, higgs_mass in enumerate(bkg_histos):\n",
    "    CL_one_minus_CLb_s_plus_b[higgs_mass] = stat.GetCLOneMinusb(array=llrs[i][0], cut=llr_pseudo_observed[higgs_mass])"
   ]
  },
  {
   "cell_type": "code",
   "execution_count": null,
   "metadata": {},
   "outputs": [],
   "source": [
    "plt.figure(figsize=(9,6))\n",
    "higgs_masses = [85, 90, 95]\n",
    "plt.plot(higgs_masses, [np.mean(CL_one_minus_CLb_s_plus_b[f\"higgs_{h}\"]) for h in higgs_masses],'-.',color='brown',label='expected sig+bkg',linewidth=3)\n",
    "plt.plot(higgs_masses, [0.5,0.5,0.5],'--',color='blue',label='expected bkg',linewidth=3)\n",
    "plt.plot(higgs_masses, [CLlist[0][0],CLlist[1][0],CLlist[2][0]],'r-',label='observed',linewidth=3)\n",
    "\n",
    "plt.hlines(0.16,85,95,color='k',linewidth=1)\n",
    "plt.text(95,0.16,r'$1 \\sigma$',fontsize=14)\n",
    "plt.hlines(0.023,85,95,color='k',linewidth=1)\n",
    "plt.text(95,0.023,r'$2 \\sigma$',fontsize=14)\n",
    "plt.hlines(1.35*10**(-3),85,95,color='k',linewidth=1)\n",
    "plt.text(95,1.35*10**(-3),r'$3 \\sigma$',fontsize=14)\n",
    "\n",
    "plt.semilogy()\n",
    "plt.xlim(85,95)\n",
    "plt.legend(fontsize=14,loc='best')\n",
    "plt.xlabel(r'$m_{H}$ [GeV]',fontsize=14)\n",
    "plt.ylabel(r'1 - CL${}_\\mathrm{b}$',fontsize=14)\n",
    "\n",
    "plt.savefig(\"plots/OneMinusCLb_plot.png\")"
   ]
  }
 ],
 "metadata": {
  "kernelspec": {
   "display_name": "Python 3.8.5 64-bit ('Higgs-L3': conda)",
   "language": "python",
   "name": "python38564bithiggsl3conda141e2cf07ec6480bb46052f1e5673410"
  },
  "language_info": {
   "codemirror_mode": {
    "name": "ipython",
    "version": 3
   },
   "file_extension": ".py",
   "mimetype": "text/x-python",
   "name": "python",
   "nbconvert_exporter": "python",
   "pygments_lexer": "ipython3",
   "version": "3.8.5-final"
  }
 },
 "nbformat": 4,
 "nbformat_minor": 2
}
