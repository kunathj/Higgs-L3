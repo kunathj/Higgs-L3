{
 "cells": [
  {
   "cell_type": "markdown",
   "metadata": {},
   "source": [
    "# 4. Higgs@L3\n",
    "\n",
    "Here we go back to using a one-dimensional distribution (in `mmis`).\n",
    "BDTs are used for the preselection.\n",
    "\n",
    "## Prerequisites\n",
    "\n",
    "The BDT responsed for each of the mass hypothesis is needed to run this notebook.\n",
    "\n",
    "## Some information on the MC simulation and detector data sets\n",
    "\n",
    "## (1D) Likelihood analysis\n",
    "\n",
    "## Quantile plots"
   ]
  },
  {
   "cell_type": "code",
   "execution_count": null,
   "metadata": {},
   "outputs": [],
   "source": [
    "import numpy as np\n",
    "import matplotlib.pyplot as plt\n",
    "\n",
    "import helpers\n",
    "from plotting import BkgSigHistos, LogLikRatioPlots\n",
    "from stats import LogLikRatio, LogLikRatioObserved\n",
    "import variables"
   ]
  },
  {
   "cell_type": "markdown",
   "metadata": {},
   "source": [
    "## Some information on the MC simulation and detector data sets"
   ]
  },
  {
   "cell_type": "code",
   "execution_count": null,
   "metadata": {},
   "outputs": [],
   "source": [
    "from load_data import data, mc_higgs_models, mc_no_higgs_frames, getPreselectedSBD"
   ]
  },
  {
   "cell_type": "markdown",
   "metadata": {},
   "source": [
    "\\begin{array}{|l||c|c|c|c|}\n",
    "\\hline\n",
    "\\textrm{sample name} & \\textrm{type of data} & \\textrm{real data} & \\textrm{No. of events} & \\sigma   [\\textrm{pb}] \\\\ \\hline\n",
    "\\textrm{higgs_qq} & q \\bar{q} & - & 200000 & 102 \\\\ \\hline\n",
    "\\textrm{higgs_ww} & W^+ W^- & - & 294500 & 16.5 \\\\ \\hline\n",
    "\\textrm{higgs_zz} & ZZ & - & 196000 & 0.975 \\\\ \\hline\n",
    "\\textrm{higgs_zee} & Z e^+ e^- & - & 29500 & 3.35 \\\\ \\hline\n",
    "\\textrm{higgs_wen} & q \\bar{q} e \\nu_e & - & 81786 & 2.90 \\\\ \\hline\n",
    "\\textrm{higgs_eeqq} & \\textrm{two photon coll} & - & 5940000 & 15600 \\\\ \\hline\n",
    "\\textrm{higgs_data} & \\textrm{data} & x & - & - \\\\ \\hline\n",
    "\\textrm{higgs_higgs_85} & \\textrm{Higgs} (m_{H} = 85 \\ \\textrm{GeV}) & - & 3972 & 0.0940\\\\ \\hline\n",
    "\\textrm{higgs_higgs_90} & \\textrm{Higgs} (m_{H} = 90 \\ \\textrm{GeV}) & - & 3973 & 0.0667\\\\ \\hline\n",
    "\\textrm{higgs_higgs_95} & \\textrm{Higgs} (m_{H} = 95 \\ \\textrm{GeV}) & - & 3971 & 0.0333\\\\ \\hline\t\n",
    "\\end{array}"
   ]
  },
  {
   "cell_type": "markdown",
   "metadata": {},
   "source": [
    "### Introduce weights in order to rescale all the MC samples to the same luminosity\n",
    "\n",
    "per definition the weight of each measured event (data) is $1$. \n",
    "Thus, we want to rescale the MC to the same integrated Luminosity of the data taking which is $L = 176.773 \\ \\mathrm{pb}^{-1}$.\n",
    "\n",
    "The weight for each MC sample is:\n",
    "$$ \n",
    "        \\mathrm{weight}_\\mathrm{MC} = L \\cdot  \\frac{\\sigma_\\mathrm{MC} }{N_\\mathrm{MC}}\n",
    "$$"
   ]
  },
  {
   "cell_type": "markdown",
   "metadata": {},
   "source": [
    "### Preselection: Cut on the BDT value"
   ]
  },
  {
   "cell_type": "code",
   "execution_count": null,
   "metadata": {},
   "outputs": [],
   "source": [
    "sig, bkg, dat = getPreselectedSBD()"
   ]
  },
  {
   "cell_type": "markdown",
   "metadata": {},
   "source": [
    "### Purity in range $90 \\pm 5$ GeV"
   ]
  },
  {
   "cell_type": "code",
   "execution_count": null,
   "metadata": {
    "tags": []
   },
   "outputs": [],
   "source": [
    "for higgs_mass in mc_higgs_models:\n",
    "    s = sig[higgs_mass]\n",
    "    b = bkg[higgs_mass]\n",
    "    sig_in_interval = s[(s[\"mmis\"] < 95) & (s[\"mmis\"] > 85)][\"weight\"].sum()\n",
    "    bkg_in_interval = b[(b[\"mmis\"] < 95) & (b[\"mmis\"] > 85)][\"weight\"].sum()\n",
    "\n",
    "    purity = sig_in_interval / bkg_in_interval\n",
    "    print(f\"{higgs_mass}: Purity = {100*purity:.2f} % with {len(dat[higgs_mass]):2} observed events.\")"
   ]
  },
  {
   "cell_type": "markdown",
   "metadata": {},
   "source": [
    "### Distribution in variable of interest"
   ]
  },
  {
   "cell_type": "code",
   "execution_count": null,
   "metadata": {},
   "outputs": [],
   "source": [
    "variable = \"mmis\"\n",
    "\n",
    "binning = variables.info[variable][\"binning\"]\n",
    "bkg_histos = {}\n",
    "sig_histos = {}\n",
    "data_histos = {}\n",
    "\n",
    "for higgs_mass in sig:\n",
    "    sig_histos[higgs_mass] = np.histogram(\n",
    "           sig[higgs_mass][variable], bins=binning, weights=sig[higgs_mass][\"weight\"])[0]\n",
    "    bkg_histos[higgs_mass] = np.histogram(\n",
    "           bkg[higgs_mass][variable], bins=binning, weights=bkg[higgs_mass][\"weight\"])[0]\n",
    "    data_histos[higgs_mass] = np.histogram(\n",
    "           dat[higgs_mass][variable], bins=binning, weights=dat[higgs_mass][\"weight\"])[0]  "
   ]
  },
  {
   "cell_type": "code",
   "execution_count": null,
   "metadata": {},
   "outputs": [],
   "source": [
    "BkgSigHistos(backgrounds=bkg_histos, signals=sig_histos, datas=data_histos,\n",
    "             var=variable, binning=binning,\n",
    "             # asymm_errors=True,\n",
    ")\n",
    "plt.savefig(f\"plots/VariableDists/{variable}.png\")"
   ]
  },
  {
   "cell_type": "markdown",
   "metadata": {},
   "source": [
    "## (1D) Likelihood analysis\n",
    "\n",
    "The Log-likelihood ratio is defined as\n",
    "\n",
    "$$\n",
    "    -2 \\log (Q(m_H)) = 2 s_{tot} - 2 \\sum_{i=1}^{N_{bins}} N_i \\log \\left( 1 + \\frac{s_i(m_H)}{b_i} \\right)\n",
    "$$."
   ]
  },
  {
   "cell_type": "code",
   "execution_count": null,
   "metadata": {},
   "outputs": [],
   "source": [
    "n_exp = 10000\n",
    "llrs, llrs_obs = {}, {}\n",
    "for higgs_mass in bkg_histos:\n",
    "    llrs[higgs_mass] = LogLikRatio(\n",
    "        background=bkg_histos[higgs_mass],\n",
    "        signal=sig_histos[higgs_mass],\n",
    "        n_experiments=n_exp\n",
    "    )\n",
    "    llrs_obs[higgs_mass] = LogLikRatioObserved(\n",
    "        background=bkg_histos[higgs_mass], \n",
    "        signal=sig_histos[higgs_mass],\n",
    "        data=data_histos[higgs_mass],\n",
    "    )"
   ]
  },
  {
   "cell_type": "code",
   "execution_count": null,
   "metadata": {
    "tags": []
   },
   "outputs": [],
   "source": [
    "cl_s_and_b, quantiles_b, quantiles_s_plus_b = LogLikRatioPlots(llrs, llrs_obs, n_bins=300)\n",
    "plt.savefig(f\"plots/loglikeliratio/by_eye_{variable}\")"
   ]
  },
  {
   "cell_type": "markdown",
   "metadata": {},
   "source": [
    "# Quantile plot"
   ]
  },
  {
   "cell_type": "markdown",
   "metadata": {},
   "source": [
    "$$CL_s = \\frac{CL_{s+b}}{CL_b} = \\frac{CL_{s+b}}{1-(1-CL_b)}$$"
   ]
  },
  {
   "cell_type": "code",
   "execution_count": null,
   "metadata": {
    "tags": []
   },
   "outputs": [],
   "source": [
    "for higgs_mass in cl_s_and_b:\n",
    "    one_minus_cl_b, cl_s_plus_b = cl_s_and_b[higgs_mass]\n",
    "    cl_s = cl_s_plus_b / (1 - one_minus_cl_b) \n",
    "    print(f\"{higgs_mass}: Confidence level CL >= {cl_s:.3f}\")"
   ]
  },
  {
   "cell_type": "code",
   "execution_count": null,
   "metadata": {},
   "outputs": [],
   "source": [
    "quantiles_s_plus_b[\"higgs_85\"]"
   ]
  },
  {
   "cell_type": "code",
   "execution_count": null,
   "metadata": {},
   "outputs": [],
   "source": [
    "plt.figure(figsize=(9,7))\n",
    "fontsize = 14\n",
    "\n",
    "\n",
    "x = [int(m_h[-2:]) for m_h in helpers.higgs_hypotheses]\n",
    "obs = [llrs_obs[m_h] for m_h in helpers.higgs_hypotheses]\n",
    "y_s_plus_b = [quantiles_s_plus_b[m_h][0] for m_h in helpers.higgs_hypotheses]\n",
    "y_b = [quantiles_b[m_h][0] for m_h in helpers.higgs_hypotheses]\n",
    "y_b_one_sigma_lower = [quantiles_b[m_h][1][0] for m_h in helpers.higgs_hypotheses]\n",
    "y_b_one_sigma_upper = [quantiles_b[m_h][1][1] for m_h in helpers.higgs_hypotheses]\n",
    "y_b_two_sigma_lower = [quantiles_b[m_h][2][0] for m_h in helpers.higgs_hypotheses]\n",
    "y_b_two_sigma_upper = [quantiles_b[m_h][2][1] for m_h in helpers.higgs_hypotheses]\n",
    "\n",
    "plt.fill_between(x, y_b_one_sigma_lower, y_b_one_sigma_upper, \n",
    "                 facecolor=\"lawngreen\",alpha=0.99)\n",
    "plt.fill_between(x, y_b_two_sigma_lower, y_b_one_sigma_lower,\n",
    "                 facecolor=\"yellow\", alpha=0.9)\n",
    "plt.fill_between(x, y_b_two_sigma_upper, y_b_one_sigma_upper,\n",
    "                 facecolor=\"yellow\", alpha=0.9)\n",
    "plt.plot(x, y_b, \"b--\", label=\"expected bkg\", linewidth=3)\n",
    "plt.plot(x, y_s_plus_b , \"-.\", label=\"expected sig+bkg\", color=\"brown\", linewidth=3)\n",
    "plt.plot(x, obs, \"r-\", label=\"observed\", linewidth=3)\n",
    "\n",
    "plt.hlines(0, min(x), max(x),linewidth=1)\n",
    "plt.xlim(min(x), max(x))\n",
    "plt.xlabel(\"$m_{H}$ [GeV]\",fontsize=fontsize)\n",
    "plt.ylabel(\"$-2 \\ln (Q)$\",fontsize=fontsize)\n",
    "plt.legend(fontsize=fontsize)\n",
    "# plt.savefig(\"plots/quantile_plot_2D.png\")"
   ]
  },
  {
   "cell_type": "markdown",
   "metadata": {},
   "source": [
    "### $1 - CL_b$ plots"
   ]
  },
  {
   "cell_type": "code",
   "execution_count": null,
   "metadata": {},
   "outputs": [],
   "source": [
    "n_pseudo_experiments = 1000\n",
    "cl_one_minus_b = {higgs_mass: np.zeros(n_pseudo_experiments) for higgs_mass in bkg_histos}\n",
    "llr_pseudo_observed = {higgs_mass: np.zeros(n_pseudo_experiments) for higgs_mass in bkg_histos}\n",
    "\n",
    "llr_hist, binning = np.histogram(llrs[higgs_mass][0] , bins=300)\n",
    "llr_hist = llr_hist / len(llrs[higgs_mass][0])\n",
    "\n",
    "for i in range(n_pseudo_experiments):\n",
    "    for higgs_mass in bkg_histos:\n",
    "        n_s_plus_b_pseudo = np.random.poisson(lam=sig_histos[higgs_mass]+bkg_histos[higgs_mass])   \n",
    "        llr_pseudo_observed = LogLikRatioObserved(background=bkg_histos[higgs_mass],\n",
    "                                                    signal=sig_histos[higgs_mass],\n",
    "                                                    data=n_s_plus_b_pseudo)\n",
    "        try:\n",
    "            pos = np.where(binning <= llr_pseudo_observed)[0][-1]\n",
    "            cl_one_minus_b[higgs_mass][i] = sum(llr_hist[:pos])\n",
    "        except IndexError:\n",
    "            cl_one_minus_b[higgs_mass][i] = 0"
   ]
  },
  {
   "cell_type": "code",
   "execution_count": null,
   "metadata": {},
   "outputs": [],
   "source": [
    "plt.figure(figsize=(9,6))\n",
    "x = [int(m_h[-2:]) for m_h in helpers.higgs_hypotheses]\n",
    "plt.plot(x, [np.mean(cl_one_minus_b[m_h]) for m_h in helpers.higgs_hypotheses],\n",
    "         \"-.\", color=\"brown\", label=\"expected sig+bkg\", linewidth=3)\n",
    "plt.plot(x, [0.5, 0.5, 0.5],\n",
    "         \"--\", color=\"blue\", label=\"expected bkg\", linewidth=3)\n",
    "plt.plot(x, [cl_s_and_b[m_h][0] for m_h in helpers.higgs_hypotheses],\n",
    "         \"r-\", label=\"observed\", linewidth=3)\n",
    "\n",
    "for pos, n_sigma in [(.16, \"1\"), (.023, \"2\"), (1.35*10**(-3), \"3\")]:\n",
    "    plt.hlines(pos, min(x), max(x), color=\"k\", linewidth=1)\n",
    "    plt.text(max(x), pos, f\"${n_sigma} \\sigma$\", fontsize=14)\n",
    "plt.semilogy()\n",
    "plt.xlim(min(x), max(x))\n",
    "plt.legend(fontsize=14, loc=\"best\")\n",
    "plt.xlabel(\"$m_{H}$ [GeV]\", fontsize=14)\n",
    "plt.ylabel(\"1 - CL${}_\\mathrm{b}$\", fontsize=14)\n",
    "plt.savefig(\"plots/OneMinusCLb.png\")"
   ]
  }
 ],
 "metadata": {
  "kernelspec": {
   "display_name": "Python 3.8.5 64-bit ('Higgs-L3': conda)",
   "language": "python",
   "name": "python38564bithiggsl3conda141e2cf07ec6480bb46052f1e5673410"
  },
  "language_info": {
   "codemirror_mode": {
    "name": "ipython",
    "version": 3
   },
   "file_extension": ".py",
   "mimetype": "text/x-python",
   "name": "python",
   "nbconvert_exporter": "python",
   "pygments_lexer": "ipython3",
   "version": "3.8.5-final"
  }
 },
 "nbformat": 4,
 "nbformat_minor": 2
}
