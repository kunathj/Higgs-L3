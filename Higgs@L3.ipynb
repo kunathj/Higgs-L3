{
 "cells": [
  {
   "cell_type": "markdown",
   "metadata": {},
   "source": [
    "# What happens in this notebook :-)\n",
    "\n",
    "* We read in MC samples for background and different signal models. We also read in the actual data from the L3 detector.\n",
    "\n",
    "* We load the pickel file of the trained BDT and select our events according to some cut on the BDT response.\n",
    "\n",
    "* The selected candidates passing the BDT cut as well as the cut MC samples are stored and used for the 2D analysis in Higgs@L3-2D.ipynb.\n",
    "\n",
    "* A 1D log-Likelihood ratio analysis is performed.\n",
    "\n",
    "* Quantile plots are produced\n"
   ]
  },
  {
   "cell_type": "markdown",
   "metadata": {},
   "source": [
    "### import packages"
   ]
  },
  {
   "cell_type": "code",
   "execution_count": null,
   "metadata": {},
   "outputs": [],
   "source": [
    "import itertools\n",
    "import numpy as np\n",
    "import matplotlib.pyplot as plt\n",
    "import pandas as pd\n",
    "import pickle\n",
    "import os\n",
    "\n",
    "import plotting as pl\n",
    "import helpers"
   ]
  },
  {
   "cell_type": "markdown",
   "metadata": {},
   "source": [
    "### Read in the data"
   ]
  },
  {
   "cell_type": "code",
   "execution_count": null,
   "metadata": {},
   "outputs": [],
   "source": [
    "from load_data import data, mc_higgs_models, mc_no_higgs_frames"
   ]
  },
  {
   "cell_type": "markdown",
   "metadata": {},
   "source": [
    "\\begin{array}{|l||c|c|c|c|}\n",
    "\\hline\n",
    "\\textrm{sample name} & \\textrm{type of data} & \\textrm{real data} & \\textrm{No. of events} & \\sigma   [\\textrm{pb}] \\\\ \\hline\n",
    "\\textrm{higgs_qq} & q \\bar{q} & - & 200000 & 102 \\\\ \\hline\n",
    "\\textrm{higgs_ww} & W^+ W^- & - & 294500 & 16.5 \\\\ \\hline\n",
    "\\textrm{higgs_zz} & ZZ & - & 196000 & 0.975 \\\\ \\hline\n",
    "\\textrm{higgs_zee} & Z e^+ e^- & - & 29500 & 3.35 \\\\ \\hline\n",
    "\\textrm{higgs_wen} & q \\bar{q} e \\nu_e & - & 81786 & 2.90 \\\\ \\hline\n",
    "\\textrm{higgs_eeqq} & \\textrm{two photon coll} & - & 5940000 & 15600 \\\\ \\hline\n",
    "\\textrm{higgs_data} & \\textrm{data} & x & - & - \\\\ \\hline\n",
    "\\textrm{higgs_higgs_85} & \\textrm{Higgs} (m_{H} = 85 \\ \\textrm{GeV}) & - & 3972 & 0.0940\\\\ \\hline\n",
    "\\textrm{higgs_higgs_90} & \\textrm{Higgs} (m_{H} = 90 \\ \\textrm{GeV}) & - & 3973 & 0.0667\\\\ \\hline\n",
    "\\textrm{higgs_higgs_95} & \\textrm{Higgs} (m_{H} = 95 \\ \\textrm{GeV}) & - & 3971 & 0.0333\\\\ \\hline\t\n",
    "\\end{array}"
   ]
  },
  {
   "cell_type": "markdown",
   "metadata": {},
   "source": [
    "### Introduce weights in order to rescale all the MC samples to the same luminosity\n",
    "\n",
    "per definition the weight of each measured event (data) is $1$. \n",
    "Thus, we want to rescale the MC to the same integrated Luminosity of the data taking which is $L = 176.773 \\ \\mathrm{pb}^{-1}$.\n",
    "\n",
    "The weight for each MC sample is:\n",
    "$$ \n",
    "        \\mathrm{weight}_\\mathrm{MC} = L \\cdot  \\frac{\\sigma_\\mathrm{MC} }{N_\\mathrm{MC}}\n",
    "$$"
   ]
  },
  {
   "cell_type": "code",
   "execution_count": null,
   "metadata": {},
   "outputs": [],
   "source": [
    "with open(\"BDT_85higgs1.pkl\", \"rb\") as fid:\n",
    "    BDT_85 = pickle.load(fid)\n",
    "\n",
    "with open(\"BDT_90higgs4.pkl\", \"rb\") as fid:\n",
    "    BDT_90 = pickle.load(fid)\n",
    "\n",
    "with open(\"BDT_95higgs3.pkl\", \"rb\") as fid:\n",
    "    BDT_95 = pickle.load(fid)\n",
    "    \n",
    "for frame in itertools.chain(mc_higgs_models.values(), \n",
    "                             mc_no_higgs_frames.values(), \n",
    "                             [data]):\n",
    "    helpers.addComposedVariable(df=frame)\n",
    "    frame[\"BDT_selCut85\"] = BDT_85.decision_function(frame[helpers.kinematical_vars])\n",
    "    frame[\"BDT_selCut90\"] = BDT_90.decision_function(frame[helpers.kinematical_vars])\n",
    "    frame[\"BDT_selCut95\"] = BDT_95.decision_function(frame[helpers.kinematical_vars])\n"
   ]
  },
  {
   "cell_type": "markdown",
   "metadata": {},
   "source": [
    "## Cut on the BDT Value."
   ]
  },
  {
   "cell_type": "code",
   "execution_count": null,
   "metadata": {},
   "outputs": [],
   "source": [
    "cut_85 = -3.15\n",
    "cut_90 = -2.9\n",
    "cut_95 = -2.9\n",
    "\n",
    "data_85 = data[data[\"BDT_selCut85\"] > cut_85][helpers.kinematical_vars + [\"weight\"]]\n",
    "data_90 = data[data[\"BDT_selCut90\"] > cut_90][helpers.kinematical_vars + [\"weight\"]]\n",
    "data_95 = data[data[\"BDT_selCut95\"] > cut_95][helpers.kinematical_vars + [\"weight\"]]\n",
    "\n",
    "df = mc_higgs_models[\"higgs_85\"]\n",
    "sig_85 = df[df[\"BDT_selCut85\"] > cut_85][helpers.kinematical_vars + [\"weight\"]]\n",
    "df = mc_higgs_models[\"higgs_90\"]\n",
    "sig_90 = df[df[\"BDT_selCut90\"] > cut_90][helpers.kinematical_vars + [\"weight\"]]\n",
    "df = mc_higgs_models[\"higgs_95\"]\n",
    "sig_95 = df[df[\"BDT_selCut95\"] > cut_95][helpers.kinematical_vars + [\"weight\"]]\n",
    "\n",
    "df_bkg = pd.concat(mc_no_higgs_frames, ignore_index=True)\n",
    "bkg_85 = df_bkg[df_bkg[\"BDT_selCut85\"] > cut_85][helpers.kinematical_vars+[\"weight\"]]\n",
    "bkg_90 = df_bkg[df_bkg[\"BDT_selCut90\"] > cut_90][helpers.kinematical_vars+[\"weight\"]]\n",
    "bkg_95 = df_bkg[df_bkg[\"BDT_selCut95\"] > cut_95][helpers.kinematical_vars+[\"weight\"]]\n"
   ]
  },
  {
   "cell_type": "code",
   "execution_count": null,
   "metadata": {
    "tags": []
   },
   "outputs": [],
   "source": [
    "# purity in range 90 +- 5 GeV\n",
    "\n",
    "sig_in_interval = sig_90[(sig_90['mmis']<95)&(sig_90['mmis']>85)]['weight'].sum()\n",
    "bkg_in_interval = bkg_90[(bkg_90['mmis']<95)&(bkg_90['mmis']>85)]['weight'].sum()\n",
    "\n",
    "purity = sig_in_interval*1. / bkg_in_interval\n",
    "\n",
    "print(purity)\n",
    "print(len(data_90['weight']))"
   ]
  },
  {
   "cell_type": "code",
   "execution_count": null,
   "metadata": {},
   "outputs": [],
   "source": [
    "data_85.to_csv('data_85')\n",
    "data_90.to_csv('data_90')\n",
    "data_95.to_csv('data_95')\n",
    "\n",
    "sig_85.to_csv('sig_85')\n",
    "sig_90.to_csv('sig_90')\n",
    "sig_95.to_csv('sig_95')\n",
    "\n",
    "bkg_85.to_csv('bkg_85')\n",
    "bkg_90.to_csv('bkg_90')\n",
    "bkg_95.to_csv('bkg_95')"
   ]
  },
  {
   "cell_type": "markdown",
   "metadata": {},
   "source": [
    "### distribution of variable of interest"
   ]
  },
  {
   "cell_type": "code",
   "execution_count": null,
   "metadata": {},
   "outputs": [],
   "source": [
    "path = \"plots/VariableDists/\"\n",
    "variable = 'mmis'\n",
    "x_name = r'missing mass $m_\\mathrm{mis}$ '\n",
    "x_unit = r'GeV/$c^2$'\n",
    "binning = np.array([50,60,70,80,85,90,95,100,105,110,120,140])\n",
    "binning = np.linspace(50,130,28)\n",
    "#binning = np.linspace(75,100,28)\n",
    "save_path = None#path+variable"
   ]
  },
  {
   "cell_type": "code",
   "execution_count": null,
   "metadata": {},
   "outputs": [],
   "source": [
    "bkg_histos = []\n",
    "sig_histos = []\n",
    "data_histos = []\n",
    "\n",
    "for frame in [bkg_85,bkg_90,bkg_95]:\n",
    "    bkg_histos.append(np.histogram(\n",
    "        frame[variable], bins=binning, weights=frame[\"weight\"]\n",
    "    )[0])\n",
    "\n",
    "for frame in [sig_85,sig_90,sig_95]:\n",
    "    sig_histos.append(np.histogram(\n",
    "        frame[variable], bins=binning, weights=frame[\"weight\"]\n",
    "    )[0])\n",
    "\n",
    "for frame in [data_85,data_90,data_95]:\n",
    "    data_histos.append(np.histogram(\n",
    "        frame[variable], bins=binning, weights=frame[\"weight\"]\n",
    "    )[0])    "
   ]
  },
  {
   "cell_type": "code",
   "execution_count": null,
   "metadata": {},
   "outputs": [],
   "source": [
    "pl.BkgSigHistos(background=bkg_histos,\n",
    "                signals=sig_histos,\n",
    "                data=data_histos,\n",
    "                variable_binning=binning,\n",
    "                x_label=[x_name,x_unit],\n",
    "                savepath=None)#save_path)"
   ]
  },
  {
   "cell_type": "markdown",
   "metadata": {},
   "source": [
    "## The Log-likelihood ratio we define to be\n",
    "\n",
    "$$\n",
    "    -2 \\log (Q(m_H)) = 2 s_{tot} - 2 \\sum_{i=1}^{N_{bins}} N_i \\log \\left( 1 + \\frac{s_i(m_H)}{b_i} \\right)\n",
    "$$"
   ]
  },
  {
   "cell_type": "code",
   "execution_count": null,
   "metadata": {},
   "outputs": [],
   "source": [
    "import stats as stat"
   ]
  },
  {
   "cell_type": "code",
   "execution_count": null,
   "metadata": {},
   "outputs": [],
   "source": [
    "\"\"\"Nexp = 10000\n",
    "llr_85 = stat.LogLikRatio(background=bkg,signal=sigModels[0],N_experiments=Nexp)\n",
    "llr_90 = stat.LogLikRatio(background=bkg,signal=sigModels[1],N_experiments=Nexp)\n",
    "llr_95 = stat.LogLikRatio(background=bkg,signal=sigModels[2],N_experiments=Nexp)\n",
    "\n",
    "llr_obs = stat.LogLikRatioObserved(background=bkg,signals=sigModels,data=data_hist)\n",
    "\"\"\"\n",
    "\n",
    "Nexp = 10000\n",
    "llr_85 = stat.LogLikRatio(background=bkg_histos[0],signal=sig_histos[0],N_experiments=Nexp)\n",
    "llr_90 = stat.LogLikRatio(background=bkg_histos[1],signal=sig_histos[1],N_experiments=Nexp)\n",
    "llr_95 = stat.LogLikRatio(background=bkg_histos[2],signal=sig_histos[2],N_experiments=Nexp)\n",
    "\n",
    "llr_obs_85 = stat.LogLikRatioObserved(background=bkg_histos[0],signals=sig_histos,data=data_histos[0])[0]\n",
    "llr_obs_90 = stat.LogLikRatioObserved(background=bkg_histos[1],signals=sig_histos,data=data_histos[1])[1]\n",
    "llr_obs_95 = stat.LogLikRatioObserved(background=bkg_histos[2],signals=sig_histos,data=data_histos[2])[2]\n",
    "\n",
    "llr_obs = [llr_obs_85,llr_obs_90,llr_obs_95]"
   ]
  },
  {
   "cell_type": "code",
   "execution_count": null,
   "metadata": {},
   "outputs": [],
   "source": [
    "path = \"plots/loglikeliratio/\"\n",
    "save_path = None#path+variable"
   ]
  },
  {
   "cell_type": "code",
   "execution_count": null,
   "metadata": {
    "tags": []
   },
   "outputs": [],
   "source": [
    "print(llr_obs)"
   ]
  },
  {
   "cell_type": "code",
   "execution_count": null,
   "metadata": {
    "tags": []
   },
   "outputs": [],
   "source": [
    "CLlist, Quantiles_b, Quantiles_sPlusb = pl.LogLikRatioPlots([llr_85,llr_90,llr_95],\n",
    "                                                            Nbins=300,obs=llr_obs,\n",
    "                                                            savepath=None#save_path\n",
    "                                                           )\n",
    "print(CLlist)"
   ]
  },
  {
   "cell_type": "markdown",
   "metadata": {},
   "source": [
    "$$CL_s = \\frac{CL_{s+b}}{CL_b} = \\frac{CL_{s+b}}{1-(1-CL_b)}$$"
   ]
  },
  {
   "cell_type": "code",
   "execution_count": null,
   "metadata": {
    "tags": []
   },
   "outputs": [],
   "source": [
    "CLs = [entry[1]/(1-entry[0]) for entry in CLlist]\n",
    "print(CLs)\n",
    "\n",
    "print(\"Confidence level CL >= \")\n",
    "for i in range(len(CLs)):\n",
    "    print(\"    \", 1 - CLs[i])"
   ]
  },
  {
   "cell_type": "markdown",
   "metadata": {},
   "source": [
    "# Quantile plot"
   ]
  },
  {
   "cell_type": "code",
   "execution_count": null,
   "metadata": {
    "tags": []
   },
   "outputs": [],
   "source": [
    "print(Quantiles_b[0])\n",
    "print(Quantiles_b[1])\n",
    "print(Quantiles_b[2])\n",
    "\n",
    "# print(Quantiles_sPlusb)"
   ]
  },
  {
   "cell_type": "code",
   "execution_count": null,
   "metadata": {
    "tags": []
   },
   "outputs": [],
   "source": [
    "print(Quantiles_b[:][0][0])"
   ]
  },
  {
   "cell_type": "code",
   "execution_count": null,
   "metadata": {},
   "outputs": [],
   "source": [
    "MHiggs = np.array([85.,90.,95])"
   ]
  },
  {
   "cell_type": "code",
   "execution_count": null,
   "metadata": {},
   "outputs": [],
   "source": [
    "Quantiles_b = [[4.17450166378066, [0.36682136305160284, 7.6648752727822966], [-3.9168189752685834, 10.837942190056509]], [2.5979840592736423, [-0.46927828916865977, 5.3244394801112449], [-3.9909498744172254, 7.7100879733441445]], [0.70195337492436138, [-0.90642270726311835, 2.0884844802583942], [-2.7921050105174032, 3.2531706087389818]]]\n",
    "Quantiles_sPlusb = [[-5.3446990880419776, [-10.738912847408141, -0.42644536626695029], [-16.609086644365437, 4.015848317916948]], [-3.0821314008046912, [-6.9446099136579615, 0.5531424936454421], [-11.261497663317497, 3.8476094604908759]], [-0.68457773040967318, [-2.6257212778773198, 0.9792595959911683], [-4.8441710464117724, 2.4212519455385628]]]"
   ]
  },
  {
   "cell_type": "code",
   "execution_count": null,
   "metadata": {},
   "outputs": [],
   "source": [
    "plt.figure(figsize=(9,7))\n",
    "\n",
    "\n",
    "\n",
    "y_b = np.array([Quantiles_b[0][0],Quantiles_b[1][0],Quantiles_b[2][0]])\n",
    "y_b_oneS_lower = np.array([Quantiles_b[0][1][0],Quantiles_b[1][1][0],Quantiles_b[2][1][0]])\n",
    "y_b_oneS_upper = np.array([Quantiles_b[0][1][1],Quantiles_b[1][1][1],Quantiles_b[2][1][1]])\n",
    "\n",
    "\n",
    "plt.plot(MHiggs,y_b,'b--',label='expected bkg',linewidth=3)\n",
    "\n",
    "\n",
    "plt.fill_between(MHiggs, y_b_oneS_lower, y_b_oneS_upper,facecolor='lawngreen',alpha=0.99)\n",
    "\n",
    "\n",
    "\n",
    "\n",
    "#plt.plot(MHiggs,[Quantiles_b[0][1][0],Quantiles_b[1][1][0],Quantiles_b[2][1][0]],'y-',color='lawngreen')\n",
    "#plt.plot(MHiggs,[Quantiles_b[0][1][1],Quantiles_b[1][1][1],Quantiles_b[2][1][1]],'y-',color='lawngreen')\n",
    "\n",
    "\n",
    "y_b_twoS_lower = np.array([Quantiles_b[0][2][0],Quantiles_b[1][2][0],Quantiles_b[2][2][0]])\n",
    "y_b_twoS_upper = np.array([Quantiles_b[0][2][1],Quantiles_b[1][2][1],Quantiles_b[2][2][1]])\n",
    "\n",
    "plt.fill_between(MHiggs, y_b_twoS_lower, y_b_oneS_lower,facecolor='yellow',alpha=0.9)\n",
    "plt.fill_between(MHiggs, y_b_oneS_upper, y_b_twoS_upper,facecolor='yellow',alpha=0.9)\n",
    "\n",
    "\n",
    "#plt.plot(MHiggs,[Quantiles_b[0][2][0],Quantiles_b[1][2][0],Quantiles_b[2][2][0]],'g-',color='yellow')\n",
    "#plt.plot(MHiggs,[Quantiles_b[0][2][1],Quantiles_b[1][2][1],Quantiles_b[2][2][1]],'g-',color='yellow')\n",
    "\n",
    "\n",
    "\n",
    "\n",
    "\n",
    "plt.plot(MHiggs,[Quantiles_sPlusb[0][0],Quantiles_sPlusb[1][0],Quantiles_sPlusb[2][0]],'-.',label='expected sig+bkg',\n",
    "        color='brown',linewidth=3)\n",
    "\n",
    "\n",
    "plt.plot(MHiggs,llr_obs,'r-',label='observed',linewidth=3)\n",
    "\n",
    "plt.hlines(0,85,95,linewidth=1)\n",
    "\n",
    "plt.xlim(85.,95.)\n",
    "plt.ylim(-6,13)\n",
    "plt.xlabel(r'$m_{H}$ [GeV]',fontsize=14)\n",
    "plt.ylabel(r'$-2 \\ln (Q)$',fontsize=14)\n",
    "plt.legend(fontsize=14)\n",
    "#plt.savefig(\"./plots/quantile_plot_2D\")\n",
    "plt.show()"
   ]
  },
  {
   "cell_type": "markdown",
   "metadata": {},
   "source": [
    "# 1 - $CL_b$ plots"
   ]
  },
  {
   "cell_type": "code",
   "execution_count": null,
   "metadata": {},
   "outputs": [],
   "source": [
    "N_b_pseudo_85 = [] \n",
    "N_pseudo_exp = 10000\n",
    "N_sigPlusbkg_pseudo_85 = []\n",
    "N_sigPlusbkg_pseudo_90 = []\n",
    "N_sigPlusbkg_pseudo_95 = []\n",
    "\n",
    "for i in range(N_pseudo_exp) :\n",
    "    N_b_pseudo_85.append(np.random.poisson(lam=bkg_histos[0]))\n",
    "    \n",
    "    N_sigPlusbkg_pseudo_85.append(np.random.poisson(lam=sig_histos[0]+bkg_histos[0]))\n",
    "    N_sigPlusbkg_pseudo_90.append(np.random.poisson(lam=sig_histos[1]+bkg_histos[1]))\n",
    "    N_sigPlusbkg_pseudo_95.append(np.random.poisson(lam=sig_histos[2]+bkg_histos[2]))\n",
    "\n",
    "    "
   ]
  },
  {
   "cell_type": "code",
   "execution_count": null,
   "metadata": {},
   "outputs": [],
   "source": [
    "llr_Pseudo_obs_85 = stat.LogLikRatioObserved(background=bkg_histos[0],signals=sig_histos,data=N_b_pseudo_85)[0]\n",
    "\n",
    "\n",
    "llr_Pseudo_obs_sigPlusbkg_85 = stat.LogLikRatioObserved(background=bkg_histos[0],\n",
    "                                                    signals=sig_histos,\n",
    "                                                    data=N_sigPlusbkg_pseudo_85)[0]\n",
    "\n",
    "llr_Pseudo_obs_sigPlusbkg_90 = stat.LogLikRatioObserved(background=bkg_histos[1],\n",
    "                                                    signals=sig_histos,\n",
    "                                                    data=N_sigPlusbkg_pseudo_90)[1]\n",
    "\n",
    "llr_Pseudo_obs_sigPlusbkg_95 = stat.LogLikRatioObserved(background=bkg_histos[2],\n",
    "                                                    signals=sig_histos,\n",
    "                                                    data=N_sigPlusbkg_pseudo_95)[2]\n",
    "\n"
   ]
  },
  {
   "cell_type": "code",
   "execution_count": null,
   "metadata": {},
   "outputs": [],
   "source": [
    "#CL_omb = stat.GetCLOneMinusb(array=llr_85[0],cut=llr_Pseudo_obs_85) \n",
    "\n",
    "CL_OneMinusCLb_sigPlusbkg_85 = stat.GetCLOneMinusb(array=llr_85[0],cut=llr_Pseudo_obs_sigPlusbkg_85)\n",
    "CL_OneMinusCLb_sigPlusbkg_90 = stat.GetCLOneMinusb(array=llr_90[0],cut=llr_Pseudo_obs_sigPlusbkg_90)\n",
    "CL_OneMinusCLb_sigPlusbkg_95 = stat.GetCLOneMinusb(array=llr_95[0],cut=llr_Pseudo_obs_sigPlusbkg_95)\n"
   ]
  },
  {
   "cell_type": "code",
   "execution_count": null,
   "metadata": {},
   "outputs": [],
   "source": [
    "mean_85 = np.mean(CL_OneMinusCLb_sigPlusbkg_85)\n",
    "mean_90 = np.mean(CL_OneMinusCLb_sigPlusbkg_90)\n",
    "mean_95 = np.mean(CL_OneMinusCLb_sigPlusbkg_95)\n"
   ]
  },
  {
   "cell_type": "code",
   "execution_count": null,
   "metadata": {},
   "outputs": [],
   "source": [
    "plt.figure(figsize=(9,6))\n",
    "\n",
    "plt.plot(MHiggs,[mean_85,mean_90,mean_95],'-.',color='brown',label='expected sig+bkg',linewidth=3)\n",
    "plt.plot(MHiggs,[0.5,0.5,0.5],'--',color='blue',label='expected bkg',linewidth=3)\n",
    "plt.plot(MHiggs,[CLlist[0][0],CLlist[1][0],CLlist[2][0]],'r-',label='observed',linewidth=3)\n",
    "\n",
    "plt.hlines(0.16,85,95,color='k',linewidth=1)\n",
    "plt.text(95,0.16,r'$1 \\sigma$',fontsize=14)\n",
    "plt.hlines(0.023,85,95,color='k',linewidth=1)\n",
    "plt.text(95,0.023,r'$2 \\sigma$',fontsize=14)\n",
    "plt.hlines(1.35*10**(-3),85,95,color='k',linewidth=1)\n",
    "plt.text(95,1.35*10**(-3),r'$3 \\sigma$',fontsize=14)\n",
    "\n",
    "plt.semilogy()\n",
    "plt.xlim(85,95)\n",
    "plt.legend(fontsize=14,loc='best')\n",
    "plt.xlabel(r'$m_{H}$ [GeV]',fontsize=14)\n",
    "plt.ylabel(r'1 - CL${}_\\mathrm{b}$',fontsize=14)\n",
    "\n",
    "#plt.savefig(\"./plots/OneMinusCLb_plot\")\n",
    "\n",
    "\n",
    "plt.show()"
   ]
  }
 ],
 "metadata": {
  "kernelspec": {
   "display_name": "Python 3.8.5 64-bit ('Higgs-L3': conda)",
   "language": "python",
   "name": "python38564bithiggsl3conda141e2cf07ec6480bb46052f1e5673410"
  },
  "language_info": {
   "codemirror_mode": {
    "name": "ipython",
    "version": 2
   },
   "file_extension": ".py",
   "mimetype": "text/x-python",
   "name": "python",
   "nbconvert_exporter": "python",
   "pygments_lexer": "ipython2",
   "version": "3.8.5-final"
  }
 },
 "nbformat": 4,
 "nbformat_minor": 2
}
